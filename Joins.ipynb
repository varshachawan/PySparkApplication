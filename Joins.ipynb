{
  "nbformat": 4,
  "nbformat_minor": 0,
  "metadata": {
    "kernelspec": {
      "display_name": "Python 3",
      "language": "python",
      "name": "python3"
    },
    "language_info": {
      "codemirror_mode": {
        "name": "ipython",
        "version": 3
      },
      "file_extension": ".py",
      "mimetype": "text/x-python",
      "name": "python",
      "nbconvert_exporter": "python",
      "pygments_lexer": "ipython3",
      "version": "3.6.4"
    },
    "colab": {
      "name": "Joins.ipynb",
      "provenance": [],
      "include_colab_link": true
    }
  },
  "cells": [
    {
      "cell_type": "markdown",
      "metadata": {
        "id": "view-in-github",
        "colab_type": "text"
      },
      "source": [
        "<a href=\"https://colab.research.google.com/github/varshachawan/PySparkApplication/blob/master/Joins.ipynb\" target=\"_parent\"><img src=\"https://colab.research.google.com/assets/colab-badge.svg\" alt=\"Open In Colab\"/></a>"
      ]
    },
    {
      "cell_type": "markdown",
      "metadata": {
        "id": "94dz1Avv09di",
        "colab_type": "text"
      },
      "source": [
        "#### Custom accumulator\n",
        "\n",
        "* The zero() function is to initialize the accumulator\n",
        "* The addInPlace() is the actual counter"
      ]
    },
    {
      "cell_type": "code",
      "metadata": {
        "id": "V3f6XmVP09dj",
        "colab_type": "code",
        "colab": {}
      },
      "source": [
        "from pyspark.accumulators import AccumulatorParam\n",
        "\n",
        "class VectorAccumulatorParam(AccumulatorParam):\n",
        "    \n",
        "    def zero(self, value):\n",
        "        return [0.0] * len(value)\n",
        "\n",
        "    def addInPlace(self, v1, v2):\n",
        "        for i in range(len(v1)):\n",
        "            v1[i] += v2[i]\n",
        "        \n",
        "        return v1"
      ],
      "execution_count": 0,
      "outputs": []
    },
    {
      "cell_type": "code",
      "metadata": {
        "id": "anhbGb3J09dp",
        "colab_type": "code",
        "colab": {},
        "outputId": "887c4f43-f0ad-4d00-eca6-e3c5ecd46aad"
      },
      "source": [
        "vector_accum = sc.accumulator([10.0, 20.0, 30.0], VectorAccumulatorParam())\n",
        "\n",
        "vector_accum.value"
      ],
      "execution_count": 0,
      "outputs": [
        {
          "output_type": "execute_result",
          "data": {
            "text/plain": [
              "[10.0, 20.0, 30.0]"
            ]
          },
          "metadata": {
            "tags": []
          },
          "execution_count": 3
        }
      ]
    },
    {
      "cell_type": "code",
      "metadata": {
        "id": "PNq6EBdk09dx",
        "colab_type": "code",
        "colab": {},
        "outputId": "13bc4d7f-fe0f-450b-fc21-b9c5c5b89cac"
      },
      "source": [
        "vector_accum += [1, 2, 3]\n",
        "\n",
        "vector_accum.value"
      ],
      "execution_count": 0,
      "outputs": [
        {
          "output_type": "execute_result",
          "data": {
            "text/plain": [
              "[11.0, 22.0, 33.0]"
            ]
          },
          "metadata": {
            "tags": []
          },
          "execution_count": 4
        }
      ]
    },
    {
      "cell_type": "code",
      "metadata": {
        "id": "pnCK-Orv09eL",
        "colab_type": "code",
        "colab": {},
        "outputId": "128824bc-9a3e-4e77-9b8e-e6fcfc40bde8"
      },
      "source": [
        "sc"
      ],
      "execution_count": 0,
      "outputs": [
        {
          "output_type": "execute_result",
          "data": {
            "text/html": [
              "\n",
              "        <div>\n",
              "            <p><b>SparkContext</b></p>\n",
              "\n",
              "            <p><a href=\"http://192.168.0.122:4043\">Spark UI</a></p>\n",
              "\n",
              "            <dl>\n",
              "              <dt>Version</dt>\n",
              "                <dd><code>v2.3.0</code></dd>\n",
              "              <dt>Master</dt>\n",
              "                <dd><code>local[*]</code></dd>\n",
              "              <dt>AppName</dt>\n",
              "                <dd><code>PySparkShell</code></dd>\n",
              "            </dl>\n",
              "        </div>\n",
              "        "
            ],
            "text/plain": [
              "<SparkContext master=local[*] appName=PySparkShell>"
            ]
          },
          "metadata": {
            "tags": []
          },
          "execution_count": 1
        }
      ]
    },
    {
      "cell_type": "markdown",
      "metadata": {
        "id": "1IrZnbOk09eR",
        "colab_type": "text"
      },
      "source": [
        "#### Setting up the Data in Pyspark\n"
      ]
    },
    {
      "cell_type": "code",
      "metadata": {
        "id": "r813PGSF09eS",
        "colab_type": "code",
        "colab": {}
      },
      "source": [
        "valuesA = [('John', 100000), ('James', 150000), ('Emily', 65000), ('Nina', 200000)]\n",
        "\n",
        "tableA = spark.createDataFrame(valuesA, ['name', 'salary'])"
      ],
      "execution_count": 0,
      "outputs": []
    },
    {
      "cell_type": "code",
      "metadata": {
        "id": "G2kVDqQM09eW",
        "colab_type": "code",
        "colab": {},
        "outputId": "1dcc1148-dfae-47ed-9b22-cee3cd0a9f1c"
      },
      "source": [
        "tableA.show()"
      ],
      "execution_count": 0,
      "outputs": [
        {
          "output_type": "stream",
          "text": [
            "+-----+------+\n",
            "| name|salary|\n",
            "+-----+------+\n",
            "| John|100000|\n",
            "|James|150000|\n",
            "|Emily| 65000|\n",
            "| Nina|200000|\n",
            "+-----+------+\n",
            "\n"
          ],
          "name": "stdout"
        }
      ]
    },
    {
      "cell_type": "code",
      "metadata": {
        "id": "_CrDgneS09ea",
        "colab_type": "code",
        "colab": {}
      },
      "source": [
        "valuesB = [('James', 2), ('Emily',3), ('Darth Vader', 5), ('Princess Leia', 6),]\n",
        "\n",
        "tableB = spark.createDataFrame(valuesB, ['name', 'employee_id'])"
      ],
      "execution_count": 0,
      "outputs": []
    },
    {
      "cell_type": "code",
      "metadata": {
        "id": "5M2k54DQ09eh",
        "colab_type": "code",
        "colab": {},
        "outputId": "f77c02ef-9b1c-4df1-f1b8-c22cdacb366b"
      },
      "source": [
        "tableB.show()"
      ],
      "execution_count": 0,
      "outputs": [
        {
          "output_type": "stream",
          "text": [
            "+-------------+-----------+\n",
            "|         name|employee_id|\n",
            "+-------------+-----------+\n",
            "|        James|          2|\n",
            "|        Emily|          3|\n",
            "|  Darth Vader|          5|\n",
            "|Princess Leia|          6|\n",
            "+-------------+-----------+\n",
            "\n"
          ],
          "name": "stdout"
        }
      ]
    },
    {
      "cell_type": "markdown",
      "metadata": {
        "id": "NR97UiRm09el",
        "colab_type": "text"
      },
      "source": [
        "#### Inner join "
      ]
    },
    {
      "cell_type": "code",
      "metadata": {
        "id": "KzPeCeaW09em",
        "colab_type": "code",
        "colab": {},
        "outputId": "b1f6705a-57e0-495b-926c-35d9e348b6f4"
      },
      "source": [
        "inner_join = tableA.join(tableB, tableA.name == tableB.name)\n",
        "inner_join.show()"
      ],
      "execution_count": 0,
      "outputs": [
        {
          "output_type": "stream",
          "text": [
            "+-----+------+-----+-----------+\n",
            "| name|salary| name|employee_id|\n",
            "+-----+------+-----+-----------+\n",
            "|James|150000|James|          2|\n",
            "|Emily| 65000|Emily|          3|\n",
            "+-----+------+-----+-----------+\n",
            "\n"
          ],
          "name": "stdout"
        }
      ]
    },
    {
      "cell_type": "markdown",
      "metadata": {
        "id": "FfvutgkQ09ep",
        "colab_type": "text"
      },
      "source": [
        "#### Left outer join"
      ]
    },
    {
      "cell_type": "code",
      "metadata": {
        "id": "mgwFgq3K09eq",
        "colab_type": "code",
        "colab": {},
        "outputId": "e1d0c848-eef6-44b0-fe90-f6ba78c14c60"
      },
      "source": [
        "left_join = tableA.join(tableB, tableA.name == tableB.name, how='left') \n",
        "left_join.show()"
      ],
      "execution_count": 0,
      "outputs": [
        {
          "output_type": "stream",
          "text": [
            "+-----+------+-----+-----------+\n",
            "| name|salary| name|employee_id|\n",
            "+-----+------+-----+-----------+\n",
            "|James|150000|James|          2|\n",
            "| John|100000| null|       null|\n",
            "|Emily| 65000|Emily|          3|\n",
            "| Nina|200000| null|       null|\n",
            "+-----+------+-----+-----------+\n",
            "\n"
          ],
          "name": "stdout"
        }
      ]
    },
    {
      "cell_type": "markdown",
      "metadata": {
        "id": "I1KSe-Q609ev",
        "colab_type": "text"
      },
      "source": [
        "#### Right outer join"
      ]
    },
    {
      "cell_type": "code",
      "metadata": {
        "id": "CuTv709D09e0",
        "colab_type": "code",
        "colab": {},
        "outputId": "3c8f5d38-ead0-463d-cc73-05ddadcc2c8e"
      },
      "source": [
        "right_join = tableA.join(tableB, tableA.name == tableB.name, how='right') \n",
        "right_join.show()"
      ],
      "execution_count": 0,
      "outputs": [
        {
          "output_type": "stream",
          "text": [
            "+-----+------+-------------+-----------+\n",
            "| name|salary|         name|employee_id|\n",
            "+-----+------+-------------+-----------+\n",
            "|James|150000|        James|          2|\n",
            "| null|  null|Princess Leia|          6|\n",
            "|Emily| 65000|        Emily|          3|\n",
            "| null|  null|  Darth Vader|          5|\n",
            "+-----+------+-------------+-----------+\n",
            "\n"
          ],
          "name": "stdout"
        }
      ]
    },
    {
      "cell_type": "markdown",
      "metadata": {
        "id": "Bz2R4tcs09e_",
        "colab_type": "text"
      },
      "source": [
        "#### Full outer join"
      ]
    },
    {
      "cell_type": "code",
      "metadata": {
        "id": "UWIkvoRL09e_",
        "colab_type": "code",
        "colab": {},
        "outputId": "58ea89ae-33f3-490b-adcf-455c2a372af3"
      },
      "source": [
        "full_outer_join = tableA.join(tableB, tableA.name == tableB.name, how='full')\n",
        "full_outer_join.show()"
      ],
      "execution_count": 0,
      "outputs": [
        {
          "output_type": "stream",
          "text": [
            "+-----+------+-------------+-----------+\n",
            "| name|salary|         name|employee_id|\n",
            "+-----+------+-------------+-----------+\n",
            "|James|150000|        James|          2|\n",
            "| John|100000|         null|       null|\n",
            "| null|  null|Princess Leia|          6|\n",
            "|Emily| 65000|        Emily|          3|\n",
            "| Nina|200000|         null|       null|\n",
            "| null|  null|  Darth Vader|          5|\n",
            "+-----+------+-------------+-----------+\n",
            "\n"
          ],
          "name": "stdout"
        }
      ]
    },
    {
      "cell_type": "code",
      "metadata": {
        "id": "zXF4bhA-09fE",
        "colab_type": "code",
        "colab": {}
      },
      "source": [
        ""
      ],
      "execution_count": 0,
      "outputs": []
    },
    {
      "cell_type": "code",
      "metadata": {
        "id": "vpwlIDCD09fH",
        "colab_type": "code",
        "colab": {}
      },
      "source": [
        ""
      ],
      "execution_count": 0,
      "outputs": []
    },
    {
      "cell_type": "code",
      "metadata": {
        "id": "eZMI3Foe09fL",
        "colab_type": "code",
        "colab": {}
      },
      "source": [
        ""
      ],
      "execution_count": 0,
      "outputs": []
    },
    {
      "cell_type": "code",
      "metadata": {
        "id": "F4HBlA0n09fQ",
        "colab_type": "code",
        "colab": {}
      },
      "source": [
        ""
      ],
      "execution_count": 0,
      "outputs": []
    },
    {
      "cell_type": "code",
      "metadata": {
        "id": "lis_MK0a09fX",
        "colab_type": "code",
        "colab": {}
      },
      "source": [
        ""
      ],
      "execution_count": 0,
      "outputs": []
    },
    {
      "cell_type": "code",
      "metadata": {
        "id": "2GUp2Wmf09fa",
        "colab_type": "code",
        "colab": {}
      },
      "source": [
        ""
      ],
      "execution_count": 0,
      "outputs": []
    }
  ]
}