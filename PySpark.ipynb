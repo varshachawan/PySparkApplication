{
 "cells": [
  {
   "cell_type": "code",
   "execution_count": 0,
   "metadata": {
    "id": "_EdvnKm-WmqS",
    "colab_type": "code",
    "colab": {}
   },
   "outputs": [],
   "source": [
    "!apt-get install openjdk-8-jdk-headless -qq > /dev/null"
   ]
  },
  {
   "cell_type": "code",
   "execution_count": 0,
   "metadata": {
    "id": "OtocCxXNXLRK",
    "colab_type": "code",
    "colab": {}
   },
   "outputs": [],
   "source": [
    "!wget -q https://mirror.olnevhost.net/pub/apache/spark/spark-2.4.5/spark-2.4.5-bin-hadoop2.7.tgz"
   ]
  },
  {
   "cell_type": "code",
   "execution_count": 0,
   "metadata": {
    "id": "jfm--7yDXvj5",
    "colab_type": "code",
    "colab": {}
   },
   "outputs": [],
   "source": [
    "!tar xf spark-2.4.5-bin-hadoop2.7.tgz"
   ]
  },
  {
   "cell_type": "code",
   "execution_count": 0,
   "metadata": {
    "id": "MDOzoOpkYcJK",
    "colab_type": "code",
    "colab": {}
   },
   "outputs": [],
   "source": [
    "!pip install -q findspark"
   ]
  },
  {
   "cell_type": "code",
   "execution_count": 0,
   "metadata": {
    "id": "ZWNHQHEtYtJE",
    "colab_type": "code",
    "colab": {}
   },
   "outputs": [],
   "source": [
    "!ls /usr/lib/jvm\n",
    "!pwd"
   ]
  },
  {
   "cell_type": "code",
   "execution_count": 0,
   "metadata": {
    "id": "El3spWjaY8_e",
    "colab_type": "code",
    "colab": {}
   },
   "outputs": [],
   "source": [
    "import os\n",
    "os.environ[\"JAVA_HOME\"]=\"/usr/lib/jvm/java-8-openjdk-amd64\"\n",
    "os.environ[\"SPARK_HOME\"]=\"/content/spark-2.4.5-bin-hadoop2.7\"\n"
   ]
  },
  {
   "cell_type": "code",
   "execution_count": 0,
   "metadata": {
    "id": "cE_HrFncZphD",
    "colab_type": "code",
    "colab": {}
   },
   "outputs": [],
   "source": [
    "!echo $JAVA_HOME"
   ]
  },
  {
   "cell_type": "code",
   "execution_count": 0,
   "metadata": {
    "id": "5KHSkOb0ZysT",
    "colab_type": "code",
    "colab": {}
   },
   "outputs": [],
   "source": [
    "import findspark\n",
    "findspark.init()\n",
    "from pyspark.sql import SparkSession"
   ]
  },
  {
   "cell_type": "code",
   "execution_count": 0,
   "metadata": {
    "id": "UsOD9RU3YtMZ",
    "colab_type": "code",
    "colab": {}
   },
   "outputs": [],
   "source": [
    "spark = SparkSession.builder.master(\"local[*]\").getOrCreate()"
   ]
  },
  {
   "cell_type": "code",
   "execution_count": 0,
   "metadata": {
    "id": "tLd5Y3JJbCdL",
    "colab_type": "code",
    "colab": {}
   },
   "outputs": [],
   "source": [
    "spark.conf.set(\"spark.executor.memory\",\"4g\")\n",
    "spark.conf.set(\"spark.driver.memory\",\"4g\")\n",
    "spark.conf.set(\"spark.memory.fraction\",\"4g\")\n"
   ]
  },
  {
   "cell_type": "code",
   "execution_count": 0,
   "metadata": {
    "id": "Vd4iodDhYkee",
    "colab_type": "code",
    "colab": {}
   },
   "outputs": [],
   "source": [
    "!pip install -U pyarrow"
   ]
  },
  {
   "cell_type": "code",
   "execution_count": 0,
   "metadata": {
    "id": "fMpLmbmfbqDa",
    "colab_type": "code",
    "colab": {}
   },
   "outputs": [],
   "source": [
    "import sys, urllib,tempfile"
   ]
  },
  {
   "cell_type": "code",
   "execution_count": 0,
   "metadata": {
    "id": "d4WOoHiPbxne",
    "colab_type": "code",
    "colab": {}
   },
   "outputs": [],
   "source": [
    "Base_Dir = '/tmp'\n",
    "OUTPUT_FILE = os.path.join(Base_Dir,\"credit_data.csv\")"
   ]
  },
  {
   "cell_type": "code",
   "execution_count": 0,
   "metadata": {
    "id": "tguJNYCNcKbb",
    "colab_type": "code",
    "colab": {}
   },
   "outputs": [],
   "source": [
    "credit_data = urllib.request.urlretrieve(\"https://archive.ics.uci.edu/ml/machine-learning-databases/credit-screening/crx.data\",OUTPUT_FILE)"
   ]
  },
  {
   "cell_type": "code",
   "execution_count": 0,
   "metadata": {
    "id": "-yERp4Kac8Ap",
    "colab_type": "code",
    "colab": {}
   },
   "outputs": [],
   "source": [
    "!ls\n"
   ]
  },
  {
   "cell_type": "code",
   "execution_count": 0,
   "metadata": {
    "id": "Ytudfg7lc93c",
    "colab_type": "code",
    "colab": {}
   },
   "outputs": [],
   "source": [
    "credit_df = spark.read.option(\"inferSchema\",\"true\").csv(\"/tmp/credit_data.csv\", header=False)"
   ]
  },
  {
   "cell_type": "code",
   "execution_count": 0,
   "metadata": {
    "id": "sWQURHk1dfX_",
    "colab_type": "code",
    "colab": {}
   },
   "outputs": [],
   "source": [
    "credit_df.show()"
   ]
  },
  {
   "cell_type": "code",
   "execution_count": 0,
   "metadata": {
    "id": "ni5oED0GdkhP",
    "colab_type": "code",
    "colab": {}
   },
   "outputs": [],
   "source": [
    "credit_df.count()"
   ]
  },
  {
   "cell_type": "code",
   "execution_count": 0,
   "metadata": {
    "id": "8WVGDD_Wf8uV",
    "colab_type": "code",
    "colab": {}
   },
   "outputs": [],
   "source": [
    ""
   ]
  }
 ],
 "metadata": {
  "colab": {
   "name": "PySpark.ipynb",
   "provenance": [],
   "toc_visible": true
  },
  "kernelspec": {
   "name": "python3",
   "display_name": "Python 3"
  }
 },
 "nbformat": 4,
 "nbformat_minor": 0
}
