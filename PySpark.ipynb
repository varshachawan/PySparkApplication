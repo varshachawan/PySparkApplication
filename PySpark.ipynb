{
  "nbformat": 4,
  "nbformat_minor": 0,
  "metadata": {
    "colab": {
      "name": "PySpark.ipynb",
      "provenance": [],
      "toc_visible": true,
      "authorship_tag": "ABX9TyOgyBYe4Ii2cbuaBMpR2bLU",
      "include_colab_link": true
    },
    "kernelspec": {
      "name": "python3",
      "display_name": "Python 3"
    },
    "accelerator": "GPU"
  },
  "cells": [
    {
      "cell_type": "markdown",
      "metadata": {
        "id": "view-in-github",
        "colab_type": "text"
      },
      "source": [
        "<a href=\"https://colab.research.google.com/github/varshachawan/PySparkApplication/blob/master/PySpark.ipynb\" target=\"_parent\"><img src=\"https://colab.research.google.com/assets/colab-badge.svg\" alt=\"Open In Colab\"/></a>"
      ]
    },
    {
      "cell_type": "code",
      "metadata": {
        "id": "_EdvnKm-WmqS",
        "colab_type": "code",
        "colab": {}
      },
      "source": [
        "!apt-get install openjdk-8-jdk-headless -qq > /dev/null"
      ],
      "execution_count": 0,
      "outputs": []
    },
    {
      "cell_type": "code",
      "metadata": {
        "id": "OtocCxXNXLRK",
        "colab_type": "code",
        "colab": {}
      },
      "source": [
        "!wget -q https://mirror.olnevhost.net/pub/apache/spark/spark-2.4.5/spark-2.4.5-bin-hadoop2.7.tgz"
      ],
      "execution_count": 0,
      "outputs": []
    },
    {
      "cell_type": "code",
      "metadata": {
        "id": "jfm--7yDXvj5",
        "colab_type": "code",
        "colab": {}
      },
      "source": [
        "!tar xf spark-2.4.5-bin-hadoop2.7.tgz"
      ],
      "execution_count": 0,
      "outputs": []
    },
    {
      "cell_type": "code",
      "metadata": {
        "id": "MDOzoOpkYcJK",
        "colab_type": "code",
        "colab": {}
      },
      "source": [
        "!pip install -q findspark"
      ],
      "execution_count": 0,
      "outputs": []
    },
    {
      "cell_type": "code",
      "metadata": {
        "id": "ZWNHQHEtYtJE",
        "colab_type": "code",
        "colab": {}
      },
      "source": [
        "!ls /usr/lib/jvm\n",
        "!pwd"
      ],
      "execution_count": 0,
      "outputs": []
    },
    {
      "cell_type": "code",
      "metadata": {
        "id": "El3spWjaY8_e",
        "colab_type": "code",
        "colab": {}
      },
      "source": [
        "import os\n",
        "os.environ[\"JAVA_HOME\"]=\"/usr/lib/jvm/java-8-openjdk-amd64\"\n",
        "os.environ[\"SPARK_HOME\"]=\"/content/spark-2.4.5-bin-hadoop2.7\"\n"
      ],
      "execution_count": 0,
      "outputs": []
    },
    {
      "cell_type": "code",
      "metadata": {
        "id": "cE_HrFncZphD",
        "colab_type": "code",
        "colab": {}
      },
      "source": [
        "!echo $JAVA_HOME"
      ],
      "execution_count": 0,
      "outputs": []
    },
    {
      "cell_type": "code",
      "metadata": {
        "id": "5KHSkOb0ZysT",
        "colab_type": "code",
        "colab": {}
      },
      "source": [
        "import findspark\n",
        "findspark.init()\n",
        "from pyspark.sql import SparkSession"
      ],
      "execution_count": 0,
      "outputs": []
    },
    {
      "cell_type": "code",
      "metadata": {
        "id": "UsOD9RU3YtMZ",
        "colab_type": "code",
        "colab": {}
      },
      "source": [
        "spark = SparkSession.builder.master(\"local[*]\").getOrCreate()"
      ],
      "execution_count": 0,
      "outputs": []
    },
    {
      "cell_type": "code",
      "metadata": {
        "id": "tLd5Y3JJbCdL",
        "colab_type": "code",
        "colab": {}
      },
      "source": [
        "spark.conf.set(\"spark.executor.memory\",\"4g\")\n",
        "spark.conf.set(\"spark.driver.memory\",\"4g\")\n",
        "spark.conf.set(\"spark.memory.fraction\",\"0.9\")\n"
      ],
      "execution_count": 0,
      "outputs": []
    },
    {
      "cell_type": "code",
      "metadata": {
        "id": "Vd4iodDhYkee",
        "colab_type": "code",
        "colab": {}
      },
      "source": [
        "# !pip install -U pyarrow"
      ],
      "execution_count": 0,
      "outputs": []
    },
    {
      "cell_type": "code",
      "metadata": {
        "id": "FlbjZe1Ys6Zn",
        "colab_type": "code",
        "colab": {}
      },
      "source": [
        "# from google.colab import drive\n",
        "# drive.mount('/content/drive')"
      ],
      "execution_count": 0,
      "outputs": []
    },
    {
      "cell_type": "code",
      "metadata": {
        "id": "fMpLmbmfbqDa",
        "colab_type": "code",
        "colab": {}
      },
      "source": [
        "import sys, urllib,tempfile"
      ],
      "execution_count": 0,
      "outputs": []
    },
    {
      "cell_type": "code",
      "metadata": {
        "id": "d4WOoHiPbxne",
        "colab_type": "code",
        "colab": {}
      },
      "source": [
        "Base_Dir = '/tmp'\n",
        "OUTPUT_FILE = os.path.join(Base_Dir,\"credit_data.csv\")"
      ],
      "execution_count": 0,
      "outputs": []
    },
    {
      "cell_type": "code",
      "metadata": {
        "id": "tguJNYCNcKbb",
        "colab_type": "code",
        "colab": {}
      },
      "source": [
        "#credit_data = urllib.request.urlretrieve(\"https://archive.ics.uci.edu/ml/machine-learning-databases/credit-screening/crx.data\",OUTPUT_FILE)"
      ],
      "execution_count": 0,
      "outputs": []
    },
    {
      "cell_type": "code",
      "metadata": {
        "id": "Ytudfg7lc93c",
        "colab_type": "code",
        "colab": {}
      },
      "source": [
        "credit_df = spark.read.option(\"inferSchema\",\"true\").csv(\"LoanStats3a.csv\", header=True)\n",
        "# spark.read.format(\"csv\").option(\"\").load"
      ],
      "execution_count": 0,
      "outputs": []
    },
    {
      "cell_type": "code",
      "metadata": {
        "id": "sWQURHk1dfX_",
        "colab_type": "code",
        "colab": {}
      },
      "source": [
        "credit_df.show()"
      ],
      "execution_count": 0,
      "outputs": []
    },
    {
      "cell_type": "code",
      "metadata": {
        "id": "ni5oED0GdkhP",
        "colab_type": "code",
        "outputId": "11119e7d-48c1-47e3-c789-8c68e5a9fc75",
        "colab": {
          "base_uri": "https://localhost:8080/",
          "height": 35
        }
      },
      "source": [
        "credit_df.count()"
      ],
      "execution_count": 0,
      "outputs": [
        {
          "output_type": "execute_result",
          "data": {
            "text/plain": [
              "28142"
            ]
          },
          "metadata": {
            "tags": []
          },
          "execution_count": 22
        }
      ]
    },
    {
      "cell_type": "code",
      "metadata": {
        "id": "zIvbuDUPj-_X",
        "colab_type": "code",
        "colab": {}
      },
      "source": [
        "#cre_df = spark.read.format(\"csv\").option(\"inferSchema\",\"true\").option(\"header\",\"false\")\\\n",
        "                                  .option(\"sep\",\",\").load(\"/tmp/credit_data.csv\")"
      ],
      "execution_count": 0,
      "outputs": []
    },
    {
      "cell_type": "code",
      "metadata": {
        "id": "Vqa7z-AqndgZ",
        "colab_type": "code",
        "colab": {}
      },
      "source": [
        "display(credit_df)"
      ],
      "execution_count": 0,
      "outputs": []
    },
    {
      "cell_type": "code",
      "metadata": {
        "id": "isqPREzPfjdU",
        "colab_type": "code",
        "colab": {}
      },
      "source": [
        "credit_df.printSchema()"
      ],
      "execution_count": 0,
      "outputs": []
    },
    {
      "cell_type": "code",
      "metadata": {
        "id": "sMnCMdLVf8uc",
        "colab_type": "code",
        "colab": {}
      },
      "source": [
        "credit_df.createOrReplaceTempView(\"loan\")"
      ],
      "execution_count": 0,
      "outputs": []
    },
    {
      "cell_type": "code",
      "metadata": {
        "id": "-txmpnb4geOI",
        "colab_type": "code",
        "colab": {}
      },
      "source": [
        "\n",
        "\n",
        "sqldf= spark.sql(\"select * from loan\")"
      ],
      "execution_count": 0,
      "outputs": []
    },
    {
      "cell_type": "code",
      "metadata": {
        "id": "IByYPv_0tat4",
        "colab_type": "code",
        "colab": {}
      },
      "source": [
        "sqldf.show(10)"
      ],
      "execution_count": 0,
      "outputs": []
    },
    {
      "cell_type": "code",
      "metadata": {
        "id": "DIKZaPnSthoB",
        "colab_type": "code",
        "colab": {}
      },
      "source": [
        "credit_df.describe().show()"
      ],
      "execution_count": 0,
      "outputs": []
    },
    {
      "cell_type": "code",
      "metadata": {
        "id": "4xr53CuauTIo",
        "colab_type": "code",
        "colab": {}
      },
      "source": [
        "spark.sql(\"select distinct emp_length from loan limit 10\").show()"
      ],
      "execution_count": 0,
      "outputs": []
    },
    {
      "cell_type": "code",
      "metadata": {
        "id": "uGK0HWgBupUr",
        "colab_type": "code",
        "colab": {}
      },
      "source": [
        "from pyspark.sql.functions import regexp_extract , regexp_replace , col\n"
      ],
      "execution_count": 0,
      "outputs": []
    },
    {
      "cell_type": "code",
      "metadata": {
        "id": "dbsWnk1FwDc8",
        "colab_type": "code",
        "colab": {}
      },
      "source": [
        "credit_df.printSchema()"
      ],
      "execution_count": 0,
      "outputs": []
    },
    {
      "cell_type": "code",
      "metadata": {
        "id": "mqWNFbM7xhkA",
        "colab_type": "code",
        "colab": {}
      },
      "source": [
        ""
      ],
      "execution_count": 0,
      "outputs": []
    },
    {
      "cell_type": "code",
      "metadata": {
        "id": "KMDigChYv5sf",
        "colab_type": "code",
        "colab": {}
      },
      "source": [
        "df_sel=credit_df.select(\"term\",\"home_ownership\",\"grade\",\"purpose\",\"int_rate\",\"loan_status\",\"addr_state\",\"application_type\",\"loan_amnt\",\"emp_length\",\"annual_inc\",\"dti\",\"delinq_2yrs\",\"revol_util\",\"total_acc\",\"num_tl_90g_dpd_24m\",\"dti_joint\")"
      ],
      "execution_count": 0,
      "outputs": []
    },
    {
      "cell_type": "code",
      "metadata": {
        "id": "cAh0jMGez0UX",
        "colab_type": "code",
        "colab": {}
      },
      "source": [
        "df_sel.cache()"
      ],
      "execution_count": 0,
      "outputs": []
    },
    {
      "cell_type": "code",
      "metadata": {
        "id": "vU-DWzMQu9Pl",
        "colab_type": "code",
        "colab": {}
      },
      "source": [
        "reg = 'years|year|\\\\+|\\\\<'"
      ],
      "execution_count": 0,
      "outputs": []
    },
    {
      "cell_type": "code",
      "metadata": {
        "id": "PsGGRDJc0AjU",
        "colab_type": "code",
        "colab": {}
      },
      "source": [
        "df_sel.select(regexp_replace(col(\"emp_length\"),reg,\"\").alias(\"emp_length_clean\"),col(\"emp_length\")).show(2)"
      ],
      "execution_count": 0,
      "outputs": []
    },
    {
      "cell_type": "code",
      "metadata": {
        "id": "Lf9KLvfy1FwK",
        "colab_type": "code",
        "colab": {}
      },
      "source": [
        "reg1 = '\\\\d+'"
      ],
      "execution_count": 0,
      "outputs": []
    },
    {
      "cell_type": "code",
      "metadata": {
        "id": "Fd3Dw3c00-6p",
        "colab_type": "code",
        "colab": {}
      },
      "source": [
        "df_sel.select(regexp_extract(col(\"emp_length\"),reg1,0)).show(2)"
      ],
      "execution_count": 0,
      "outputs": []
    },
    {
      "cell_type": "code",
      "metadata": {
        "id": "Je7vJCtQ1EJu",
        "colab_type": "code",
        "colab": {}
      },
      "source": [
        "df_sel = df_sel.withColumn(\"term_clean\",regexp_replace(col(\"term\"),\"months\",\"\")).withColumn(\"emp_cleaned\",regexp_extract(col(\"emp_length\"),\"\\\\d+\",0))"
      ],
      "execution_count": 0,
      "outputs": []
    },
    {
      "cell_type": "code",
      "metadata": {
        "id": "ir3Cx2nh2Yi9",
        "colab_type": "code",
        "colab": {}
      },
      "source": [
        "df_sel.stat.cov(\"annual_inc\",\"loan_amnt\")"
      ],
      "execution_count": 0,
      "outputs": []
    },
    {
      "cell_type": "code",
      "metadata": {
        "id": "Ivr3Jj0828ak",
        "colab_type": "code",
        "colab": {}
      },
      "source": [
        "df_sel.stat.corr(\"annual_inc\",\"loan_amnt\")"
      ],
      "execution_count": 0,
      "outputs": []
    },
    {
      "cell_type": "code",
      "metadata": {
        "id": "5uXhVUW63Hd1",
        "colab_type": "code",
        "colab": {}
      },
      "source": [
        "df_sel.createOrReplaceTempView(\"sel_table\")"
      ],
      "execution_count": 0,
      "outputs": []
    },
    {
      "cell_type": "code",
      "metadata": {
        "id": "13d-TEDi3Psd",
        "colab_type": "code",
        "colab": {}
      },
      "source": [
        "spark.sql(\"select corr(term_clean,loan_amnt) from sel_table\").show()"
      ],
      "execution_count": 0,
      "outputs": []
    },
    {
      "cell_type": "code",
      "metadata": {
        "id": "I1xKpHPo4OEo",
        "colab_type": "code",
        "colab": {}
      },
      "source": [
        "df_sel.stat.crosstab(\"loan_status\",\"grade\").show()"
      ],
      "execution_count": 0,
      "outputs": []
    },
    {
      "cell_type": "code",
      "metadata": {
        "id": "dybDioeS7cM6",
        "colab_type": "code",
        "colab": {}
      },
      "source": [
        "freq= df_sel.stat.freqItems(['purpose','grade'],0.3)"
      ],
      "execution_count": 0,
      "outputs": []
    },
    {
      "cell_type": "code",
      "metadata": {
        "id": "YnngCiwW7uVh",
        "colab_type": "code",
        "colab": {}
      },
      "source": [
        "freq.collect()"
      ],
      "execution_count": 0,
      "outputs": []
    },
    {
      "cell_type": "code",
      "metadata": {
        "id": "u6YsV1Z670mT",
        "colab_type": "code",
        "colab": {}
      },
      "source": [
        "df_sel.groupBy('purpose').count().orderBy('count').show()\n"
      ],
      "execution_count": 0,
      "outputs": []
    },
    {
      "cell_type": "code",
      "metadata": {
        "id": "cJatitek9ox0",
        "colab_type": "code",
        "colab": {}
      },
      "source": [
        "from pyspark.sql.functions import mean,stddev_pop,min,max,avg,count"
      ],
      "execution_count": 0,
      "outputs": []
    },
    {
      "cell_type": "code",
      "metadata": {
        "id": "RM13ne1OQxsD",
        "colab_type": "code",
        "colab": {}
      },
      "source": [
        "from pyspark.sql.functions import isnan,when,count,col"
      ],
      "execution_count": 0,
      "outputs": []
    },
    {
      "cell_type": "code",
      "metadata": {
        "id": "jvR1lp_M97UR",
        "colab_type": "code",
        "colab": {}
      },
      "source": [
        "qp =[0.25,0.5,0.75,0.9]\n",
        "er=0.0\n",
        "df_sel.stat.approxQuantile(\"loan_amnt\",qp,er)"
      ],
      "execution_count": 0,
      "outputs": []
    },
    {
      "cell_type": "code",
      "metadata": {
        "id": "mXQIxQ1UTs1g",
        "colab_type": "code",
        "colab": {}
      },
      "source": [
        "df_sel.na.drop(\"all\",subset=[\"loan_status\"])"
      ],
      "execution_count": 0,
      "outputs": []
    },
    {
      "cell_type": "code",
      "metadata": {
        "id": "JOcJG3xBROrF",
        "colab_type": "code",
        "colab": {}
      },
      "source": [
        "df_sel.select([count(when(isnan(c)| col(c).isNull(),c)).alias(c) for c in df_sel.columns]).show()"
      ],
      "execution_count": 0,
      "outputs": []
    },
    {
      "cell_type": "code",
      "metadata": {
        "id": "ZuIgkwHl3j6J",
        "colab_type": "code",
        "colab": {}
      },
      "source": [
        "df_sel=df_sel.withColumn(\"rev_cleaned\",regexp_extract(col(\"revol_util\"),\"\\\\d+\",0))\n",
        "df_sel.select(\"rev_cleaned\").show()"
      ],
      "execution_count": 0,
      "outputs": []
    },
    {
      "cell_type": "code",
      "metadata": {
        "id": "8jWoEw7-4gAE",
        "colab_type": "code",
        "colab": {}
      },
      "source": [
        "def fill_avg(df,colname):\n",
        "  return df_sel.select(colname).agg(avg(colname))"
      ],
      "execution_count": 0,
      "outputs": []
    },
    {
      "cell_type": "code",
      "metadata": {
        "id": "h4qRqjWe5j2v",
        "colab_type": "code",
        "colab": {}
      },
      "source": [
        "from pyspark.sql.functions import lit,coalesce"
      ],
      "execution_count": 0,
      "outputs": []
    },
    {
      "cell_type": "code",
      "metadata": {
        "id": "ReCHNll241oj",
        "colab_type": "code",
        "colab": {}
      },
      "source": [
        "rev_avg = fill_avg(df_sel,\"rev_cleaned\").first()[0]\n",
        "\n",
        "\n",
        "\n",
        "df_sel = df_sel.withColumn(\"rev_avg\",lit(rev_avg))"
      ],
      "execution_count": 0,
      "outputs": []
    },
    {
      "cell_type": "code",
      "metadata": {
        "id": "YImSGk1o8MEl",
        "colab_type": "code",
        "colab": {}
      },
      "source": [
        "df_sel.select(\"rev_avg\").show()"
      ],
      "execution_count": 0,
      "outputs": []
    },
    {
      "cell_type": "code",
      "metadata": {
        "id": "KefA07n784-q",
        "colab_type": "code",
        "colab": {}
      },
      "source": [
        "df_sel =df_sel.withColumn(\"rev_cleaned\",coalesce(col(\"rev_cleaned\"),col(\"rev_avg\")))"
      ],
      "execution_count": 0,
      "outputs": []
    },
    {
      "cell_type": "code",
      "metadata": {
        "id": "DL9TxZ9R9lPJ",
        "colab_type": "code",
        "colab": {}
      },
      "source": [
        "df_sel= df_sel.withColumn(\"rev_cleaned\",df_sel[\"rev_cleaned\"].cast(\"double\"))"
      ],
      "execution_count": 0,
      "outputs": []
    },
    {
      "cell_type": "code",
      "metadata": {
        "id": "zsUMYGhz4Dmq",
        "colab_type": "code",
        "colab": {}
      },
      "source": [
        "df_sel.select(\"rev_cleaned\").show(10)"
      ],
      "execution_count": 0,
      "outputs": []
    },
    {
      "cell_type": "code",
      "metadata": {
        "id": "peoVzkjM-ybw",
        "colab_type": "code",
        "colab": {}
      },
      "source": [
        "# df_sel.filter(col(bad_loan)=='Yes').show()"
      ],
      "execution_count": 0,
      "outputs": []
    },
    {
      "cell_type": "code",
      "metadata": {
        "id": "QQi2rJRDtY6F",
        "colab_type": "code",
        "colab": {}
      },
      "source": [
        "df_sel.show(10,False)"
      ],
      "execution_count": 0,
      "outputs": []
    }
  ]
}