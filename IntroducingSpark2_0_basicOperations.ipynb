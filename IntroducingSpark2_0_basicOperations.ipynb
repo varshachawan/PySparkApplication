{
  "nbformat": 4,
  "nbformat_minor": 0,
  "metadata": {
    "kernelspec": {
      "display_name": "Python 3",
      "language": "python",
      "name": "python3"
    },
    "language_info": {
      "codemirror_mode": {
        "name": "ipython",
        "version": 3
      },
      "file_extension": ".py",
      "mimetype": "text/x-python",
      "name": "python",
      "nbconvert_exporter": "python",
      "pygments_lexer": "ipython3",
      "version": "3.6.4"
    },
    "colab": {
      "name": "IntroducingSpark2.0_basicOperations.ipynb",
      "provenance": [],
      "include_colab_link": true
    }
  },
  "cells": [
    {
      "cell_type": "markdown",
      "metadata": {
        "id": "view-in-github",
        "colab_type": "text"
      },
      "source": [
        "<a href=\"https://colab.research.google.com/github/varshachawan/PySparkApplication/blob/master/IntroducingSpark2_0_basicOperations.ipynb\" target=\"_parent\"><img src=\"https://colab.research.google.com/assets/colab-badge.svg\" alt=\"Open In Colab\"/></a>"
      ]
    },
    {
      "cell_type": "markdown",
      "metadata": {
        "id": "KQ32Cgniu3LM",
        "colab_type": "text"
      },
      "source": [
        "## RDDs and DataFrames\n",
        "\n",
        "* Creating RDDs and DataFrames using SparkContext\n",
        "* Interoperability between RDDs and DataFrames\n",
        "* Multiple rows and multiple column specifications for DataFrames\n",
        "* Creating DataFrames using SQLContext\n",
        "* Selecting, editing and renaming columns in dataframes\n",
        "* Interoperability between Pandas and Spark dataframes"
      ]
    },
    {
      "cell_type": "code",
      "metadata": {
        "id": "ykSq8MuieHiV",
        "colab_type": "code",
        "colab": {}
      },
      "source": [
        "!apt-get install openjdk-8-jdk-headless -qq > /dev/null"
      ],
      "execution_count": 0,
      "outputs": []
    },
    {
      "cell_type": "code",
      "metadata": {
        "id": "nyTI6073eKV0",
        "colab_type": "code",
        "colab": {}
      },
      "source": [
        "!wget -q https://mirror.olnevhost.net/pub/apache/spark/spark-2.4.5/spark-2.4.5-bin-hadoop2.7.tgz"
      ],
      "execution_count": 0,
      "outputs": []
    },
    {
      "cell_type": "code",
      "metadata": {
        "id": "CNzfFJe5eNQr",
        "colab_type": "code",
        "colab": {
          "base_uri": "https://localhost:8080/",
          "height": 35
        },
        "outputId": "fc4ef050-dff8-42eb-c882-4a0d319bd3c6"
      },
      "source": [
        "!tar xf spark-2.4.5-bin-hadoop2.7.tgz\n",
        "!pip install -q findspark\n",
        "import os\n",
        "os.environ[\"JAVA_HOME\"]=\"/usr/lib/jvm/java-8-openjdk-amd64\"\n",
        "os.environ[\"SPARK_HOME\"]=\"/content/spark-2.4.5-bin-hadoop2.7\"\n",
        "!echo $JAVA_HOME\n",
        "import findspark\n",
        "findspark.init()"
      ],
      "execution_count": 4,
      "outputs": [
        {
          "output_type": "stream",
          "text": [
            "/usr/lib/jvm/java-8-openjdk-amd64\n"
          ],
          "name": "stdout"
        }
      ]
    },
    {
      "cell_type": "code",
      "metadata": {
        "id": "uIdrxwZjeAlL",
        "colab_type": "code",
        "colab": {}
      },
      "source": [
        "# from pyspark.sql.types import *\n",
        "# from pyspark import SparkContext , SparkConf\n",
        "# conf = SparkConf().setAppName(\"practice\").setMaster(\"local[*]\")\n",
        "# sc = SparkContext(conf=conf)\n",
        "from pyspark.sql import SparkSession\n",
        "spark = SparkSession.builder.master(\"local[*]\").getOrCreate()\n",
        "from pyspark.sql import Row\n",
        "sc = spark.sparkContext\n",
        "\n"
      ],
      "execution_count": 0,
      "outputs": []
    },
    {
      "cell_type": "code",
      "metadata": {
        "id": "2vhvrY94f4AB",
        "colab_type": "code",
        "colab": {}
      },
      "source": [
        ""
      ],
      "execution_count": 0,
      "outputs": []
    },
    {
      "cell_type": "code",
      "metadata": {
        "id": "TNl5A03Qu3LP",
        "colab_type": "code",
        "colab": {
          "base_uri": "https://localhost:8080/",
          "height": 198
        },
        "outputId": "d70c947b-8be4-4c82-b0f6-7aafa19babb0"
      },
      "source": [
        "sc"
      ],
      "execution_count": 20,
      "outputs": [
        {
          "output_type": "execute_result",
          "data": {
            "text/html": [
              "\n",
              "        <div>\n",
              "            <p><b>SparkContext</b></p>\n",
              "\n",
              "            <p><a href=\"http://655ee619b5c3:4040\">Spark UI</a></p>\n",
              "\n",
              "            <dl>\n",
              "              <dt>Version</dt>\n",
              "                <dd><code>v2.4.5</code></dd>\n",
              "              <dt>Master</dt>\n",
              "                <dd><code>local[*]</code></dd>\n",
              "              <dt>AppName</dt>\n",
              "                <dd><code>practice</code></dd>\n",
              "            </dl>\n",
              "        </div>\n",
              "        "
            ],
            "text/plain": [
              "<SparkContext master=local[*] appName=practice>"
            ]
          },
          "metadata": {
            "tags": []
          },
          "execution_count": 20
        }
      ]
    },
    {
      "cell_type": "code",
      "metadata": {
        "id": "n5KMVunNu3Lc",
        "colab_type": "code",
        "colab": {}
      },
      "source": [
        "from pyspark.sql.types import Row\n",
        "from datetime import datetime\n",
        "from pyspark.sql import SQLContext"
      ],
      "execution_count": 0,
      "outputs": []
    },
    {
      "cell_type": "markdown",
      "metadata": {
        "id": "LNNZqZN4u3Lf",
        "colab_type": "text"
      },
      "source": [
        "#### Creating RDDs using sc.parallelize()"
      ]
    },
    {
      "cell_type": "code",
      "metadata": {
        "id": "amOHiJQVqTtp",
        "colab_type": "code",
        "colab": {}
      },
      "source": [
        "exmple = sc.parallelize([1,2,3])\n",
        "exmple.toDf()\n",
        "// we cannot convert to Df as it dosent have columns"
      ],
      "execution_count": 0,
      "outputs": []
    },
    {
      "cell_type": "code",
      "metadata": {
        "id": "ltwyNs2Au3L3",
        "colab_type": "code",
        "colab": {
          "base_uri": "https://localhost:8080/",
          "height": 35
        },
        "outputId": "19dcd0c0-f27b-4078-f2ca-1fc22cce4d4d"
      },
      "source": [
        "records = sc.parallelize([[1, \"Alice\", 50], [2, \"Bob\", 80]])\n",
        "records"
      ],
      "execution_count": 28,
      "outputs": [
        {
          "output_type": "execute_result",
          "data": {
            "text/plain": [
              "ParallelCollectionRDD[12] at parallelize at PythonRDD.scala:195"
            ]
          },
          "metadata": {
            "tags": []
          },
          "execution_count": 28
        }
      ]
    },
    {
      "cell_type": "code",
      "metadata": {
        "id": "I9Spt6h3u3L9",
        "colab_type": "code",
        "colab": {},
        "outputId": "2cf812c7-71ff-489f-aca6-688979b2e5fc"
      },
      "source": [
        "records.count()"
      ],
      "execution_count": 0,
      "outputs": [
        {
          "output_type": "execute_result",
          "data": {
            "text/plain": [
              "2"
            ]
          },
          "metadata": {
            "tags": []
          },
          "execution_count": 44
        }
      ]
    },
    {
      "cell_type": "code",
      "metadata": {
        "id": "HWbkHiX7u3MA",
        "colab_type": "code",
        "colab": {},
        "outputId": "f4f60359-39a3-4ee7-db5c-5237f4e3b950"
      },
      "source": [
        "records.first()"
      ],
      "execution_count": 0,
      "outputs": [
        {
          "output_type": "execute_result",
          "data": {
            "text/plain": [
              "[1, 'Alice', 50]"
            ]
          },
          "metadata": {
            "tags": []
          },
          "execution_count": 45
        }
      ]
    },
    {
      "cell_type": "code",
      "metadata": {
        "id": "1WXXIuzFu3ME",
        "colab_type": "code",
        "colab": {},
        "outputId": "f9cb2e1d-e0d9-4093-c292-90c3c1726a86"
      },
      "source": [
        "records.take(2)"
      ],
      "execution_count": 0,
      "outputs": [
        {
          "output_type": "execute_result",
          "data": {
            "text/plain": [
              "[[1, 'Alice', 50], [2, 'Bob', 80]]"
            ]
          },
          "metadata": {
            "tags": []
          },
          "execution_count": 46
        }
      ]
    },
    {
      "cell_type": "code",
      "metadata": {
        "id": "wGyUa5l1u3MJ",
        "colab_type": "code",
        "colab": {},
        "outputId": "fec17a08-6d7b-4c5f-c73c-b3814fa36edd"
      },
      "source": [
        "records.collect()"
      ],
      "execution_count": 0,
      "outputs": [
        {
          "output_type": "execute_result",
          "data": {
            "text/plain": [
              "[[1, 'Alice', 50], [2, 'Bob', 80]]"
            ]
          },
          "metadata": {
            "tags": []
          },
          "execution_count": 47
        }
      ]
    },
    {
      "cell_type": "code",
      "metadata": {
        "id": "TVtnZeuDf-71",
        "colab_type": "code",
        "colab": {}
      },
      "source": [
        "\n"
      ],
      "execution_count": 0,
      "outputs": []
    },
    {
      "cell_type": "code",
      "metadata": {
        "id": "B0UyspEIu3MN",
        "colab_type": "code",
        "colab": {}
      },
      "source": [
        " df = records.toDF()"
      ],
      "execution_count": 0,
      "outputs": []
    },
    {
      "cell_type": "code",
      "metadata": {
        "id": "8RcR9QmPu3MP",
        "colab_type": "code",
        "colab": {
          "base_uri": "https://localhost:8080/",
          "height": 35
        },
        "outputId": "e2ade1af-a98c-4442-c35b-be0615d56a4e"
      },
      "source": [
        "df"
      ],
      "execution_count": 23,
      "outputs": [
        {
          "output_type": "execute_result",
          "data": {
            "text/plain": [
              "DataFrame[_1: bigint, _2: string, _3: bigint]"
            ]
          },
          "metadata": {
            "tags": []
          },
          "execution_count": 23
        }
      ]
    },
    {
      "cell_type": "code",
      "metadata": {
        "id": "OsIS3helu3MS",
        "colab_type": "code",
        "colab": {},
        "outputId": "33d1314e-2ad1-4fa7-c0df-42de0133e6e6"
      },
      "source": [
        "df.show()"
      ],
      "execution_count": 0,
      "outputs": [
        {
          "output_type": "stream",
          "text": [
            "+---+-----+---+\n",
            "| _1|   _2| _3|\n",
            "+---+-----+---+\n",
            "|  1|Alice| 50|\n",
            "|  2|  Bob| 80|\n",
            "+---+-----+---+\n",
            "\n"
          ],
          "name": "stdout"
        }
      ]
    },
    {
      "cell_type": "markdown",
      "metadata": {
        "id": "hzOF7v0Ru3MV",
        "colab_type": "text"
      },
      "source": [
        "#### Creating dataframes using sc.parallelize() and Row() functions\n",
        "* Row functions allow specifying column names for dataframes"
      ]
    },
    {
      "cell_type": "code",
      "metadata": {
        "id": "MVqbjD6zu3MW",
        "colab_type": "code",
        "colab": {
          "base_uri": "https://localhost:8080/",
          "height": 35
        },
        "outputId": "3583656e-bd0a-457d-ddbc-0001a969e28b"
      },
      "source": [
        "data = sc.parallelize([Row(id=1,\n",
        "                           name=\"Alice\",\n",
        "                           score=50)])\n",
        "data"
      ],
      "execution_count": 30,
      "outputs": [
        {
          "output_type": "execute_result",
          "data": {
            "text/plain": [
              "ParallelCollectionRDD[18] at parallelize at PythonRDD.scala:195"
            ]
          },
          "metadata": {
            "tags": []
          },
          "execution_count": 30
        }
      ]
    },
    {
      "cell_type": "code",
      "metadata": {
        "id": "gcyCDi5Eu3MY",
        "colab_type": "code",
        "colab": {
          "base_uri": "https://localhost:8080/",
          "height": 35
        },
        "outputId": "47a78db9-e0b2-4cc0-f1d3-6fe9f7e2c133"
      },
      "source": [
        "data.count()"
      ],
      "execution_count": 31,
      "outputs": [
        {
          "output_type": "execute_result",
          "data": {
            "text/plain": [
              "1"
            ]
          },
          "metadata": {
            "tags": []
          },
          "execution_count": 31
        }
      ]
    },
    {
      "cell_type": "code",
      "metadata": {
        "id": "JhkAXXqfu3Ma",
        "colab_type": "code",
        "colab": {
          "base_uri": "https://localhost:8080/",
          "height": 35
        },
        "outputId": "a08f9e35-48cb-4fab-854a-ad2b9dfb2398"
      },
      "source": [
        "data.collect()"
      ],
      "execution_count": 32,
      "outputs": [
        {
          "output_type": "execute_result",
          "data": {
            "text/plain": [
              "[Row(id=1, name='Alice', score=50)]"
            ]
          },
          "metadata": {
            "tags": []
          },
          "execution_count": 32
        }
      ]
    },
    {
      "cell_type": "code",
      "metadata": {
        "id": "pu3N_603u3Ml",
        "colab_type": "code",
        "colab": {
          "base_uri": "https://localhost:8080/",
          "height": 126
        },
        "outputId": "c04f2310-4770-42a9-95a7-b149d8356bb0"
      },
      "source": [
        "df = data.toDF()\n",
        "df.show()"
      ],
      "execution_count": 33,
      "outputs": [
        {
          "output_type": "stream",
          "text": [
            "+---+-----+-----+\n",
            "| id| name|score|\n",
            "+---+-----+-----+\n",
            "|  1|Alice|   50|\n",
            "+---+-----+-----+\n",
            "\n"
          ],
          "name": "stdout"
        }
      ]
    },
    {
      "cell_type": "markdown",
      "metadata": {
        "id": "Mg3fMezou3Mo",
        "colab_type": "text"
      },
      "source": [
        "#### Working with multiple rows"
      ]
    },
    {
      "cell_type": "code",
      "metadata": {
        "id": "wA99V27yu3Mo",
        "colab_type": "code",
        "colab": {}
      },
      "source": [
        "data = sc.parallelize([Row(\n",
        "                           id=1,\n",
        "                           name=\"Alice\",\n",
        "                           score=50\n",
        "                        ),\n",
        "                        Row(\n",
        "                            id=2,\n",
        "                            name=\"Bob\",\n",
        "                            score=80\n",
        "                        ),\n",
        "                        Row(\n",
        "                            id=3,\n",
        "                            name=\"Charlee\",\n",
        "                            score=75\n",
        "                        )])"
      ],
      "execution_count": 0,
      "outputs": []
    },
    {
      "cell_type": "code",
      "metadata": {
        "id": "frv9fMbDu3Mr",
        "colab_type": "code",
        "colab": {},
        "outputId": "8e3fd756-fbd3-45e5-a9bc-f86c558905d9"
      },
      "source": [
        "df = data.toDF()\n",
        "df.show()"
      ],
      "execution_count": 0,
      "outputs": [
        {
          "output_type": "stream",
          "text": [
            "+---+-------+-----+\n",
            "| id|   name|score|\n",
            "+---+-------+-----+\n",
            "|  1|  Alice|   50|\n",
            "|  2|    Bob|   80|\n",
            "|  3|Charlee|   75|\n",
            "+---+-------+-----+\n",
            "\n"
          ],
          "name": "stdout"
        }
      ]
    },
    {
      "cell_type": "markdown",
      "metadata": {
        "id": "2TRpoYsUu3Mu",
        "colab_type": "text"
      },
      "source": [
        "#### Multiple columns with complex data types"
      ]
    },
    {
      "cell_type": "code",
      "metadata": {
        "id": "YTlYSx-du3Mv",
        "colab_type": "code",
        "colab": {}
      },
      "source": [
        "complex_data = sc.parallelize([Row(\n",
        "                                col_float=1.44,\n",
        "                                col_integer=10,\n",
        "                                col_string=\"John\")\n",
        "                           ])\n",
        "# complex_data = sc.parallelize([[32,2,'bhu'],[30,4,'var']])"
      ],
      "execution_count": 0,
      "outputs": []
    },
    {
      "cell_type": "code",
      "metadata": {
        "id": "1cNrq6mbu3Mz",
        "colab_type": "code",
        "colab": {
          "base_uri": "https://localhost:8080/",
          "height": 126
        },
        "outputId": "c8648bbf-e0eb-4701-afe9-e6a20680c8ff"
      },
      "source": [
        "complex_data_df = complex_data.toDF()\n",
        "complex_data_df.show()"
      ],
      "execution_count": 46,
      "outputs": [
        {
          "output_type": "stream",
          "text": [
            "+---------+-----------+----------+\n",
            "|col_float|col_integer|col_string|\n",
            "+---------+-----------+----------+\n",
            "|     1.44|         10|      John|\n",
            "+---------+-----------+----------+\n",
            "\n"
          ],
          "name": "stdout"
        }
      ]
    },
    {
      "cell_type": "code",
      "metadata": {
        "id": "IHXPIaaJu3M1",
        "colab_type": "code",
        "colab": {}
      },
      "source": [
        "complex_data = sc.parallelize([Row(\n",
        "                                col_float=1.44, \n",
        "                                col_integer=10, \n",
        "                                col_string=\"John\", \n",
        "                                col_boolean=True, \n",
        "                                col_list=[1, 2, 3])\n",
        "                           ])"
      ],
      "execution_count": 0,
      "outputs": []
    },
    {
      "cell_type": "code",
      "metadata": {
        "id": "r6nbepAcu3M3",
        "colab_type": "code",
        "colab": {},
        "outputId": "f7e1eedf-0344-48e0-b0b9-e8b086ef8e22"
      },
      "source": [
        "complex_data_df = complex_data.toDF()\n",
        "complex_data_df.show()"
      ],
      "execution_count": 0,
      "outputs": [
        {
          "output_type": "stream",
          "text": [
            "+-----------+---------+-----------+---------+----------+\n",
            "|col_boolean|col_float|col_integer| col_list|col_string|\n",
            "+-----------+---------+-----------+---------+----------+\n",
            "|       true|     1.44|         10|[1, 2, 3]|      John|\n",
            "+-----------+---------+-----------+---------+----------+\n",
            "\n"
          ],
          "name": "stdout"
        }
      ]
    },
    {
      "cell_type": "code",
      "metadata": {
        "id": "LAtfuRFiu3M5",
        "colab_type": "code",
        "colab": {}
      },
      "source": [
        "complex_data = sc.parallelize([Row(\n",
        "                                col_list = [1, 2, 3], \n",
        "                                col_dict = {\"k1\": 0, \"k2\": 1, \"k3\": 2}, \n",
        "                                col_row = Row(columnA = 10, columnB = 20, columnC = 30), \n",
        "                                col_time = datetime(2014, 8, 1, 14, 1, 5)\n",
        "                            )])"
      ],
      "execution_count": 0,
      "outputs": []
    },
    {
      "cell_type": "code",
      "metadata": {
        "id": "SV0d2XZzu3M7",
        "colab_type": "code",
        "colab": {},
        "outputId": "83f461c7-3b36-4526-f694-d41a3375bb3c"
      },
      "source": [
        "complex_data_df = complex_data.toDF()\n",
        "complex_data_df.show()"
      ],
      "execution_count": 0,
      "outputs": [
        {
          "output_type": "stream",
          "text": [
            "+--------------------+---------+------------+-------------------+\n",
            "|            col_dict| col_list|     col_row|           col_time|\n",
            "+--------------------+---------+------------+-------------------+\n",
            "|[k3 -> 2, k1 -> 0...|[1, 2, 3]|[10, 20, 30]|2014-08-01 14:01:05|\n",
            "+--------------------+---------+------------+-------------------+\n",
            "\n"
          ],
          "name": "stdout"
        }
      ]
    },
    {
      "cell_type": "markdown",
      "metadata": {
        "id": "rQfwB78iu3M_",
        "colab_type": "text"
      },
      "source": [
        "#### Multiple rows with complex data types"
      ]
    },
    {
      "cell_type": "code",
      "metadata": {
        "id": "TO9tbwS9u3NA",
        "colab_type": "code",
        "colab": {}
      },
      "source": [
        "complex_data = sc.parallelize([Row(\n",
        "                                col_list = [1, 2, 3],\n",
        "                                col_dict = {\"k1\": 0},\n",
        "                                col_row = Row(a=10, b=20, c=30),\n",
        "                                col_time = datetime(2014, 8, 1, 14, 1, 5)\n",
        "                            ),              \n",
        "                            Row(\n",
        "                                col_list = [1, 2, 3, 4, 5], \n",
        "                                col_dict = {\"k1\": 0,\"k2\": 1 }, \n",
        "                                col_row = Row(a=40, b=50, c=60),\n",
        "                                col_time = datetime(2014, 8, 2, 14, 1, 6)\n",
        "                            ),\n",
        "                            Row(\n",
        "                                col_list = [1, 2, 3, 4, 5, 6, 7], \n",
        "                                col_dict = {\"k1\": 0, \"k2\": 1, \"k3\": 2 }, \n",
        "                                col_row = Row(a=70, b=80, c=90),\n",
        "                                col_time = datetime(2014, 8, 3, 14, 1, 7)\n",
        "                            )]) "
      ],
      "execution_count": 0,
      "outputs": []
    },
    {
      "cell_type": "code",
      "metadata": {
        "id": "KqKjaMRwu3NC",
        "colab_type": "code",
        "colab": {},
        "outputId": "e0fa77a4-d863-4ef6-94fa-364e5a2ee113"
      },
      "source": [
        "complex_data_df = complex_data.toDF()\n",
        "complex_data_df.show()"
      ],
      "execution_count": 0,
      "outputs": [
        {
          "output_type": "stream",
          "text": [
            "+--------------------+--------------------+------------+-------------------+\n",
            "|            col_dict|            col_list|     col_row|           col_time|\n",
            "+--------------------+--------------------+------------+-------------------+\n",
            "|           [k1 -> 0]|           [1, 2, 3]|[10, 20, 30]|2014-08-01 14:01:05|\n",
            "|  [k1 -> 0, k2 -> 1]|     [1, 2, 3, 4, 5]|[40, 50, 60]|2014-08-02 14:01:06|\n",
            "|[k3 -> 2, k1 -> 0...|[1, 2, 3, 4, 5, 6...|[70, 80, 90]|2014-08-03 14:01:07|\n",
            "+--------------------+--------------------+------------+-------------------+\n",
            "\n"
          ],
          "name": "stdout"
        }
      ]
    },
    {
      "cell_type": "markdown",
      "metadata": {
        "id": "mKaw7QEDu3NE",
        "colab_type": "text"
      },
      "source": [
        "#### Creating DataFrames using SQLContext\n",
        "\n",
        "* SQLContext can create dataframes directly from raw data"
      ]
    },
    {
      "cell_type": "code",
      "metadata": {
        "id": "JK1WDzRdu3NE",
        "colab_type": "code",
        "colab": {}
      },
      "source": [
        "sqlContext = SQLContext(sc)"
      ],
      "execution_count": 0,
      "outputs": []
    },
    {
      "cell_type": "code",
      "metadata": {
        "id": "rdMSBcqTu3NG",
        "colab_type": "code",
        "colab": {},
        "outputId": "e1dfc6cf-ae63-412e-ff64-e8777b58eee9"
      },
      "source": [
        "sqlContext"
      ],
      "execution_count": 0,
      "outputs": [
        {
          "output_type": "execute_result",
          "data": {
            "text/plain": [
              "<pyspark.sql.context.SQLContext at 0x10d4f7438>"
            ]
          },
          "metadata": {
            "tags": []
          },
          "execution_count": 93
        }
      ]
    },
    {
      "cell_type": "code",
      "metadata": {
        "id": "b6UGV1APu3NK",
        "colab_type": "code",
        "colab": {},
        "outputId": "dbaad3fc-1c18-44ee-c2dd-2e995060e400"
      },
      "source": [
        "df = sqlContext.range(5)\n",
        "df"
      ],
      "execution_count": 0,
      "outputs": [
        {
          "output_type": "execute_result",
          "data": {
            "text/plain": [
              "DataFrame[id: bigint]"
            ]
          },
          "metadata": {
            "tags": []
          },
          "execution_count": 99
        }
      ]
    },
    {
      "cell_type": "code",
      "metadata": {
        "id": "ARI20FOzu3NM",
        "colab_type": "code",
        "colab": {},
        "outputId": "72bfb1c5-da55-4d9b-960d-9ee74aff58af"
      },
      "source": [
        "df.show()"
      ],
      "execution_count": 0,
      "outputs": [
        {
          "output_type": "stream",
          "text": [
            "+---+\n",
            "| id|\n",
            "+---+\n",
            "|  0|\n",
            "|  1|\n",
            "|  2|\n",
            "|  3|\n",
            "|  4|\n",
            "+---+\n",
            "\n"
          ],
          "name": "stdout"
        }
      ]
    },
    {
      "cell_type": "code",
      "metadata": {
        "id": "aVCfFRb3u3NQ",
        "colab_type": "code",
        "colab": {},
        "outputId": "5194b11a-5992-466f-b5fe-a4bc750f8cbe"
      },
      "source": [
        "df.count()"
      ],
      "execution_count": 0,
      "outputs": [
        {
          "output_type": "execute_result",
          "data": {
            "text/plain": [
              "5"
            ]
          },
          "metadata": {
            "tags": []
          },
          "execution_count": 101
        }
      ]
    },
    {
      "cell_type": "markdown",
      "metadata": {
        "id": "XWk75nHxu3NS",
        "colab_type": "text"
      },
      "source": [
        "#### Rows specified in tuples"
      ]
    },
    {
      "cell_type": "code",
      "metadata": {
        "id": "xml_pn0zu3NT",
        "colab_type": "code",
        "colab": {}
      },
      "source": [
        "data = [('Alice', 50),\n",
        "        ('Bob', 80),\n",
        "        ('Charlee', 75)]"
      ],
      "execution_count": 0,
      "outputs": []
    },
    {
      "cell_type": "code",
      "metadata": {
        "id": "YB8zhvNvu3NW",
        "colab_type": "code",
        "colab": {},
        "outputId": "ff5a39f9-961f-449a-8824-cec466254a3b"
      },
      "source": [
        "sqlContext.createDataFrame(data).show()"
      ],
      "execution_count": 0,
      "outputs": [
        {
          "output_type": "stream",
          "text": [
            "+-------+---+\n",
            "|     _1| _2|\n",
            "+-------+---+\n",
            "|  Alice| 50|\n",
            "|    Bob| 80|\n",
            "|Charlee| 75|\n",
            "+-------+---+\n",
            "\n"
          ],
          "name": "stdout"
        }
      ]
    },
    {
      "cell_type": "code",
      "metadata": {
        "id": "tIm9os3eu3Ng",
        "colab_type": "code",
        "colab": {},
        "outputId": "1d05aaef-6416-4d4e-b790-230a7ed971be"
      },
      "source": [
        "sqlContext.createDataFrame(data, ['Name', 'Score']).show()"
      ],
      "execution_count": 0,
      "outputs": [
        {
          "output_type": "stream",
          "text": [
            "+-------+-----+\n",
            "|   Name|Score|\n",
            "+-------+-----+\n",
            "|  Alice|   50|\n",
            "|    Bob|   80|\n",
            "|Charlee|   75|\n",
            "+-------+-----+\n",
            "\n"
          ],
          "name": "stdout"
        }
      ]
    },
    {
      "cell_type": "code",
      "metadata": {
        "id": "p3MU7485u3Ni",
        "colab_type": "code",
        "colab": {}
      },
      "source": [
        "complex_data = [\n",
        "                 (1.0,\n",
        "                  10,\n",
        "                  \"Alice\", \n",
        "                  True, \n",
        "                  [1, 2, 3], \n",
        "                  {\"k1\": 0},\n",
        "                  Row(a=1, b=2, c=3), \n",
        "                  datetime(2014, 8, 1, 14, 1, 5)),\n",
        "\n",
        "                 (2.0,\n",
        "                  20,\n",
        "                  \"Bob\", \n",
        "                  True, \n",
        "                  [1, 2, 3, 4, 5], \n",
        "                  {\"k1\": 0,\"k2\": 1 }, \n",
        "                  Row(a=1, b=2, c=3), \n",
        "                  datetime(2014, 8, 1, 14, 1, 5)),\n",
        "\n",
        "                  (3.0,\n",
        "                   30,\n",
        "                   \"Charlee\", \n",
        "                   False, \n",
        "                   [1, 2, 3, 4, 5, 6], \n",
        "                   {\"k1\": 0, \"k2\": 1, \"k3\": 2 }, \n",
        "                   Row(a=1, b=2, c=3), \n",
        "                   datetime(2014, 8, 1, 14, 1, 5))\n",
        "                ] "
      ],
      "execution_count": 0,
      "outputs": []
    },
    {
      "cell_type": "code",
      "metadata": {
        "id": "TwCIc3_ou3Nl",
        "colab_type": "code",
        "colab": {},
        "outputId": "7a7343f3-a0ff-4c3e-80e9-3c0d59d651b3"
      },
      "source": [
        "sqlContext.createDataFrame(complex_data).show()"
      ],
      "execution_count": 0,
      "outputs": [
        {
          "output_type": "stream",
          "text": [
            "+---+---+-------+-----+------------------+--------------------+---------+-------------------+\n",
            "| _1| _2|     _3|   _4|                _5|                  _6|       _7|                 _8|\n",
            "+---+---+-------+-----+------------------+--------------------+---------+-------------------+\n",
            "|1.0| 10|  Alice| true|         [1, 2, 3]|           [k1 -> 0]|[1, 2, 3]|2014-08-01 14:01:05|\n",
            "|2.0| 20|    Bob| true|   [1, 2, 3, 4, 5]|  [k1 -> 0, k2 -> 1]|[1, 2, 3]|2014-08-01 14:01:05|\n",
            "|3.0| 30|Charlee|false|[1, 2, 3, 4, 5, 6]|[k3 -> 2, k1 -> 0...|[1, 2, 3]|2014-08-01 14:01:05|\n",
            "+---+---+-------+-----+------------------+--------------------+---------+-------------------+\n",
            "\n"
          ],
          "name": "stdout"
        }
      ]
    },
    {
      "cell_type": "code",
      "metadata": {
        "id": "58Ju7ZjAu3No",
        "colab_type": "code",
        "colab": {},
        "outputId": "fd3c3713-9fc2-425a-bc6c-12322ca9cb93"
      },
      "source": [
        "complex_data_df = sqlContext.createDataFrame(complex_data, [\n",
        "        'col_integer',\n",
        "        'col_float',\n",
        "        'col_string',\n",
        "        'col_boolean',\n",
        "        'col_list',\n",
        "        'col_dictionary',\n",
        "        'col_row',\n",
        "        'col_date_time']\n",
        "    )\n",
        "complex_data_df.show()"
      ],
      "execution_count": 0,
      "outputs": [
        {
          "output_type": "stream",
          "text": [
            "+-----------+---------+----------+-----------+------------------+--------------------+---------+-------------------+\n",
            "|col_integer|col_float|col_string|col_boolean|          col_list|      col_dictionary|  col_row|      col_date_time|\n",
            "+-----------+---------+----------+-----------+------------------+--------------------+---------+-------------------+\n",
            "|        1.0|       10|     Alice|       true|         [1, 2, 3]|           [k1 -> 0]|[1, 2, 3]|2014-08-01 14:01:05|\n",
            "|        2.0|       20|       Bob|       true|   [1, 2, 3, 4, 5]|  [k1 -> 0, k2 -> 1]|[1, 2, 3]|2014-08-01 14:01:05|\n",
            "|        3.0|       30|   Charlee|      false|[1, 2, 3, 4, 5, 6]|[k3 -> 2, k1 -> 0...|[1, 2, 3]|2014-08-01 14:01:05|\n",
            "+-----------+---------+----------+-----------+------------------+--------------------+---------+-------------------+\n",
            "\n"
          ],
          "name": "stdout"
        }
      ]
    },
    {
      "cell_type": "markdown",
      "metadata": {
        "id": "05gNRI1Eu3Nq",
        "colab_type": "text"
      },
      "source": [
        "#### Creating dataframes using SQL Context and the Row function\n",
        "* Row functions can be used without specifying column names"
      ]
    },
    {
      "cell_type": "code",
      "metadata": {
        "id": "rY359rOzu3Nr",
        "colab_type": "code",
        "colab": {}
      },
      "source": [
        "data = sc.parallelize([\n",
        "    Row(1, \"Alice\", 50),\n",
        "    Row(2, \"Bob\", 80),\n",
        "    Row(3, \"Charlee\", 75)\n",
        "])"
      ],
      "execution_count": 0,
      "outputs": []
    },
    {
      "cell_type": "code",
      "metadata": {
        "id": "uUFgs5O8u3Nt",
        "colab_type": "code",
        "colab": {}
      },
      "source": [
        "column_names = Row('id', 'name', 'score')  \n",
        "students = data.map(lambda r: column_names(*r))"
      ],
      "execution_count": 0,
      "outputs": []
    },
    {
      "cell_type": "code",
      "metadata": {
        "id": "RBdh1C6Vu3Nx",
        "colab_type": "code",
        "colab": {
          "base_uri": "https://localhost:8080/",
          "height": 35
        },
        "outputId": "4cf1c484-897a-46f7-ad13-0a64ed0f33b8"
      },
      "source": [
        "students"
      ],
      "execution_count": 48,
      "outputs": [
        {
          "output_type": "execute_result",
          "data": {
            "text/plain": [
              "DataFrame[id: bigint, name: string, score: bigint]"
            ]
          },
          "metadata": {
            "tags": []
          },
          "execution_count": 48
        }
      ]
    },
    {
      "cell_type": "code",
      "metadata": {
        "id": "OVsND2CLu3N0",
        "colab_type": "code",
        "colab": {
          "base_uri": "https://localhost:8080/",
          "height": 72
        },
        "outputId": "52bdb860-4375-42f2-c498-806ae1c1ae89"
      },
      "source": [
        "students.collect()"
      ],
      "execution_count": 54,
      "outputs": [
        {
          "output_type": "execute_result",
          "data": {
            "text/plain": [
              "[Row(id=1, name='Alice', score=50),\n",
              " Row(id=2, name='Bob', score=80),\n",
              " Row(id=3, name='Charlee', score=75)]"
            ]
          },
          "metadata": {
            "tags": []
          },
          "execution_count": 54
        }
      ]
    },
    {
      "cell_type": "code",
      "metadata": {
        "id": "xwYzaF7Ou3N3",
        "colab_type": "code",
        "colab": {
          "base_uri": "https://localhost:8080/",
          "height": 35
        },
        "outputId": "c6b07722-4e12-463d-e226-04bbed2b7f97"
      },
      "source": [
        "students_df = sqlContext.createDataFrame(students)\n",
        "students_df"
      ],
      "execution_count": 60,
      "outputs": [
        {
          "output_type": "execute_result",
          "data": {
            "text/plain": [
              "DataFrame[id: bigint, name: string, score: bigint]"
            ]
          },
          "metadata": {
            "tags": []
          },
          "execution_count": 60
        }
      ]
    },
    {
      "cell_type": "code",
      "metadata": {
        "id": "76VFmAnRu3N5",
        "colab_type": "code",
        "colab": {
          "base_uri": "https://localhost:8080/",
          "height": 163
        },
        "outputId": "7945c602-c217-4158-e1b8-51818a94402a"
      },
      "source": [
        "students_df.show()"
      ],
      "execution_count": 61,
      "outputs": [
        {
          "output_type": "stream",
          "text": [
            "+---+-------+-----+\n",
            "| id|   name|score|\n",
            "+---+-------+-----+\n",
            "|  1|  Alice|   50|\n",
            "|  2|    Bob|   80|\n",
            "|  3|Charlee|   75|\n",
            "+---+-------+-----+\n",
            "\n"
          ],
          "name": "stdout"
        }
      ]
    },
    {
      "cell_type": "markdown",
      "metadata": {
        "id": "KerZLxJIu3N8",
        "colab_type": "text"
      },
      "source": [
        "#### Extracting specific rows from dataframes"
      ]
    },
    {
      "cell_type": "code",
      "metadata": {
        "id": "XJTq2UwUu3N8",
        "colab_type": "code",
        "colab": {
          "base_uri": "https://localhost:8080/",
          "height": 35
        },
        "outputId": "ac369ef9-64be-42f1-d490-dbe5712ecaf2"
      },
      "source": [
        "complex_data_df.first()"
      ],
      "execution_count": 55,
      "outputs": [
        {
          "output_type": "execute_result",
          "data": {
            "text/plain": [
              "Row(col_float=1.44, col_integer=10, col_string='John')"
            ]
          },
          "metadata": {
            "tags": []
          },
          "execution_count": 55
        }
      ]
    },
    {
      "cell_type": "code",
      "metadata": {
        "id": "2tA6QuXEu3OF",
        "colab_type": "code",
        "colab": {
          "base_uri": "https://localhost:8080/",
          "height": 35
        },
        "outputId": "ec0ba091-a5c7-4f46-9af7-4ddfbdd87e1e"
      },
      "source": [
        "complex_data_df.take(2)"
      ],
      "execution_count": 56,
      "outputs": [
        {
          "output_type": "execute_result",
          "data": {
            "text/plain": [
              "[Row(col_float=1.44, col_integer=10, col_string='John')]"
            ]
          },
          "metadata": {
            "tags": []
          },
          "execution_count": 56
        }
      ]
    },
    {
      "cell_type": "markdown",
      "metadata": {
        "id": "CXtFnEM2u3ON",
        "colab_type": "text"
      },
      "source": [
        "#### Extracting specific cells from dataframes"
      ]
    },
    {
      "cell_type": "code",
      "metadata": {
        "id": "QaHpjomVu3ON",
        "colab_type": "code",
        "colab": {
          "base_uri": "https://localhost:8080/",
          "height": 35
        },
        "outputId": "d441e2ad-597c-4fbe-d494-529c97b737fd"
      },
      "source": [
        "cell_string = complex_data_df.collect()[0][1]\n",
        "cell_string"
      ],
      "execution_count": 64,
      "outputs": [
        {
          "output_type": "execute_result",
          "data": {
            "text/plain": [
              "10"
            ]
          },
          "metadata": {
            "tags": []
          },
          "execution_count": 64
        }
      ]
    },
    {
      "cell_type": "code",
      "metadata": {
        "id": "2JC4jO6Yu3OV",
        "colab_type": "code",
        "colab": {},
        "outputId": "75d3a97d-b7ea-41ba-e48e-a95a934f8ff7"
      },
      "source": [
        "cell_list = complex_data_df.collect()[0][4]\n",
        "cell_list"
      ],
      "execution_count": 0,
      "outputs": [
        {
          "output_type": "execute_result",
          "data": {
            "text/plain": [
              "[1, 2, 3]"
            ]
          },
          "metadata": {
            "tags": []
          },
          "execution_count": 212
        }
      ]
    },
    {
      "cell_type": "code",
      "metadata": {
        "id": "3Q1AiKyMu3OY",
        "colab_type": "code",
        "colab": {},
        "outputId": "9e0c5266-1cb0-48ff-ea75-a85c0cb85610"
      },
      "source": [
        "cell_list.append(100)\n",
        "cell_list"
      ],
      "execution_count": 0,
      "outputs": [
        {
          "output_type": "execute_result",
          "data": {
            "text/plain": [
              "[1, 2, 3, 100]"
            ]
          },
          "metadata": {
            "tags": []
          },
          "execution_count": 213
        }
      ]
    },
    {
      "cell_type": "code",
      "metadata": {
        "id": "RTPZx4PUu3Od",
        "colab_type": "code",
        "colab": {},
        "outputId": "c2d3b8f0-621c-44d1-8692-80fb33ce4f3c"
      },
      "source": [
        "complex_data_df.show()"
      ],
      "execution_count": 0,
      "outputs": [
        {
          "output_type": "stream",
          "text": [
            "+-----------+---------+----------+-----------+------------------+--------------------+---------+-------------------+\n",
            "|col_integer|col_float|col_string|col_boolean|          col_list|      col_dictionary|  col_row|      col_date_time|\n",
            "+-----------+---------+----------+-----------+------------------+--------------------+---------+-------------------+\n",
            "|        1.0|       10|     Alice|       true|         [1, 2, 3]|           [k1 -> 0]|[1, 2, 3]|2014-08-01 14:01:05|\n",
            "|        2.0|       20|       Bob|       true|   [1, 2, 3, 4, 5]|  [k1 -> 0, k2 -> 1]|[1, 2, 3]|2014-08-01 14:01:05|\n",
            "|        3.0|       30|   Charlee|      false|[1, 2, 3, 4, 5, 6]|[k3 -> 2, k1 -> 0...|[1, 2, 3]|2014-08-01 14:01:05|\n",
            "+-----------+---------+----------+-----------+------------------+--------------------+---------+-------------------+\n",
            "\n"
          ],
          "name": "stdout"
        }
      ]
    },
    {
      "cell_type": "markdown",
      "metadata": {
        "id": "JwTxey4ou3Of",
        "colab_type": "text"
      },
      "source": [
        "#### Selecting specific columns"
      ]
    },
    {
      "cell_type": "code",
      "metadata": {
        "id": "AocaZHuTu3Og",
        "colab_type": "code",
        "colab": {},
        "outputId": "6f2a2b15-3f92-4b82-f356-741825486e83"
      },
      "source": [
        "complex_data_df.rdd\\\n",
        "    .map(lambda x: (x.col_string, x.col_dictionary))\\\n",
        "    .collect()"
      ],
      "execution_count": 0,
      "outputs": [
        {
          "output_type": "execute_result",
          "data": {
            "text/plain": [
              "[('Alice', {'k1': 0}),\n",
              " ('Bob', {'k1': 0, 'k2': 1}),\n",
              " ('Charlee', {'k1': 0, 'k2': 1, 'k3': 2})]"
            ]
          },
          "metadata": {
            "tags": []
          },
          "execution_count": 215
        }
      ]
    },
    {
      "cell_type": "code",
      "metadata": {
        "id": "d84FG705u3Oj",
        "colab_type": "code",
        "colab": {},
        "outputId": "bf487948-2251-4c02-9df4-3acf802bce02"
      },
      "source": [
        "complex_data_df.select(\n",
        "    'col_string',\n",
        "    'col_list',\n",
        "    'col_date_time'\n",
        ").show()"
      ],
      "execution_count": 0,
      "outputs": [
        {
          "output_type": "stream",
          "text": [
            "+----------+------------------+-------------------+\n",
            "|col_string|          col_list|      col_date_time|\n",
            "+----------+------------------+-------------------+\n",
            "|     Alice|         [1, 2, 3]|2014-08-01 14:01:05|\n",
            "|       Bob|   [1, 2, 3, 4, 5]|2014-08-01 14:01:05|\n",
            "|   Charlee|[1, 2, 3, 4, 5, 6]|2014-08-01 14:01:05|\n",
            "+----------+------------------+-------------------+\n",
            "\n"
          ],
          "name": "stdout"
        }
      ]
    },
    {
      "cell_type": "markdown",
      "metadata": {
        "id": "flW63yhMu3Om",
        "colab_type": "text"
      },
      "source": [
        "#### Editing columns"
      ]
    },
    {
      "cell_type": "code",
      "metadata": {
        "id": "7Pdvb9Z1u3Om",
        "colab_type": "code",
        "colab": {},
        "outputId": "bb8e6bab-6d25-4d77-eb57-563f15a0a044"
      },
      "source": [
        "complex_data_df.rdd\\\n",
        "           .map(lambda x: (x.col_string + \" Boo\"))\\\n",
        "           .collect()"
      ],
      "execution_count": 0,
      "outputs": [
        {
          "output_type": "execute_result",
          "data": {
            "text/plain": [
              "['Alice Boo', 'Bob Boo', 'Charlee Boo']"
            ]
          },
          "metadata": {
            "tags": []
          },
          "execution_count": 217
        }
      ]
    },
    {
      "cell_type": "markdown",
      "metadata": {
        "id": "AMdN5dcJu3Or",
        "colab_type": "text"
      },
      "source": [
        "#### Adding a column"
      ]
    },
    {
      "cell_type": "code",
      "metadata": {
        "id": "ZnvAQLTsu3Os",
        "colab_type": "code",
        "colab": {},
        "outputId": "c01b8655-d625-48b3-a7bd-466e1d2be127"
      },
      "source": [
        "complex_data_df.select(\n",
        "                   'col_integer',\n",
        "                   'col_float'\n",
        "            )\\\n",
        "           .withColumn(\n",
        "                   \"col_sum\",\n",
        "                    complex_data_df.col_integer + complex_data_df.col_float\n",
        "           )\\\n",
        "           .show()"
      ],
      "execution_count": 0,
      "outputs": [
        {
          "output_type": "stream",
          "text": [
            "+-----------+---------+-------+\n",
            "|col_integer|col_float|col_sum|\n",
            "+-----------+---------+-------+\n",
            "|        1.0|       10|   11.0|\n",
            "|        2.0|       20|   22.0|\n",
            "|        3.0|       30|   33.0|\n",
            "+-----------+---------+-------+\n",
            "\n"
          ],
          "name": "stdout"
        }
      ]
    },
    {
      "cell_type": "code",
      "metadata": {
        "id": "V99h3Qmtu3Ou",
        "colab_type": "code",
        "colab": {},
        "outputId": "0b9cfe30-c8c1-426f-ddb7-36961b34a0c7"
      },
      "source": [
        "complex_data_df.select('col_boolean')\\\n",
        "               .withColumn(\n",
        "                   \"col_opposite\",\n",
        "                   complex_data_df.col_boolean == False )\\\n",
        "               .show()"
      ],
      "execution_count": 0,
      "outputs": [
        {
          "output_type": "stream",
          "text": [
            "+-----------+------------+\n",
            "|col_boolean|col_opposite|\n",
            "+-----------+------------+\n",
            "|       true|       false|\n",
            "|       true|       false|\n",
            "|      false|        true|\n",
            "+-----------+------------+\n",
            "\n"
          ],
          "name": "stdout"
        }
      ]
    },
    {
      "cell_type": "markdown",
      "metadata": {
        "id": "7ToEAVX0u3Ow",
        "colab_type": "text"
      },
      "source": [
        "#### Editing a column name"
      ]
    },
    {
      "cell_type": "code",
      "metadata": {
        "id": "U92FsoXZu3Ow",
        "colab_type": "code",
        "colab": {
          "base_uri": "https://localhost:8080/",
          "height": 126
        },
        "outputId": "2e6834c9-8961-42c2-ecde-22267a33ffb0"
      },
      "source": [
        "complex_data_df.withColumnRenamed(\"col_dictionary\",\"col_map\").show()"
      ],
      "execution_count": 67,
      "outputs": [
        {
          "output_type": "stream",
          "text": [
            "+---------+-----------+----------+\n",
            "|col_float|col_integer|col_string|\n",
            "+---------+-----------+----------+\n",
            "|     1.44|         10|      John|\n",
            "+---------+-----------+----------+\n",
            "\n"
          ],
          "name": "stdout"
        }
      ]
    },
    {
      "cell_type": "code",
      "metadata": {
        "id": "5RAQ92z0u3Oy",
        "colab_type": "code",
        "colab": {},
        "outputId": "db5f2e7c-4404-4303-9083-ea65c49bcb82"
      },
      "source": [
        "complex_data_df.select(complex_data_df.col_string.alias(\"Name\")).show()"
      ],
      "execution_count": 0,
      "outputs": [
        {
          "output_type": "stream",
          "text": [
            "+-------+\n",
            "|   Name|\n",
            "+-------+\n",
            "|  Alice|\n",
            "|    Bob|\n",
            "|Charlee|\n",
            "+-------+\n",
            "\n"
          ],
          "name": "stdout"
        }
      ]
    },
    {
      "cell_type": "markdown",
      "metadata": {
        "id": "1Oe6GRzku3O0",
        "colab_type": "text"
      },
      "source": [
        "#### Interoperablity between Pandas dataframe and Spark dataframe"
      ]
    },
    {
      "cell_type": "code",
      "metadata": {
        "id": "RuwLiS-Du3O0",
        "colab_type": "code",
        "colab": {}
      },
      "source": [
        "import pandas"
      ],
      "execution_count": 0,
      "outputs": []
    },
    {
      "cell_type": "code",
      "metadata": {
        "id": "oS4XNocfu3O4",
        "colab_type": "code",
        "colab": {
          "base_uri": "https://localhost:8080/",
          "height": 78
        },
        "outputId": "f8f5e53e-1c85-406f-d05e-9c737e79b461"
      },
      "source": [
        "df_pandas = complex_data_df.toPandas()\n",
        "df_pandas"
      ],
      "execution_count": 66,
      "outputs": [
        {
          "output_type": "execute_result",
          "data": {
            "text/html": [
              "<div>\n",
              "<style scoped>\n",
              "    .dataframe tbody tr th:only-of-type {\n",
              "        vertical-align: middle;\n",
              "    }\n",
              "\n",
              "    .dataframe tbody tr th {\n",
              "        vertical-align: top;\n",
              "    }\n",
              "\n",
              "    .dataframe thead th {\n",
              "        text-align: right;\n",
              "    }\n",
              "</style>\n",
              "<table border=\"1\" class=\"dataframe\">\n",
              "  <thead>\n",
              "    <tr style=\"text-align: right;\">\n",
              "      <th></th>\n",
              "      <th>col_float</th>\n",
              "      <th>col_integer</th>\n",
              "      <th>col_string</th>\n",
              "    </tr>\n",
              "  </thead>\n",
              "  <tbody>\n",
              "    <tr>\n",
              "      <th>0</th>\n",
              "      <td>1.44</td>\n",
              "      <td>10</td>\n",
              "      <td>John</td>\n",
              "    </tr>\n",
              "  </tbody>\n",
              "</table>\n",
              "</div>"
            ],
            "text/plain": [
              "   col_float  col_integer col_string\n",
              "0       1.44           10       John"
            ]
          },
          "metadata": {
            "tags": []
          },
          "execution_count": 66
        }
      ]
    },
    {
      "cell_type": "code",
      "metadata": {
        "id": "-lcdP-pAu3O6",
        "colab_type": "code",
        "colab": {},
        "outputId": "174bed95-ff70-427d-85f1-45715a100009"
      },
      "source": [
        "df_spark = sqlContext.createDataFrame(df_pandas).show()  \n",
        "df_spark"
      ],
      "execution_count": 0,
      "outputs": [
        {
          "output_type": "stream",
          "text": [
            "+-----------+---------+----------+-----------+------------------+--------------------+---------+-------------------+\n",
            "|col_integer|col_float|col_string|col_boolean|          col_list|      col_dictionary|  col_row|      col_date_time|\n",
            "+-----------+---------+----------+-----------+------------------+--------------------+---------+-------------------+\n",
            "|        1.0|       10|     Alice|       true|         [1, 2, 3]|           [k1 -> 0]|[1, 2, 3]|2014-08-01 14:01:05|\n",
            "|        2.0|       20|       Bob|       true|   [1, 2, 3, 4, 5]|  [k1 -> 0, k2 -> 1]|[1, 2, 3]|2014-08-01 14:01:05|\n",
            "|        3.0|       30|   Charlee|      false|[1, 2, 3, 4, 5, 6]|[k3 -> 2, k1 -> 0...|[1, 2, 3]|2014-08-01 14:01:05|\n",
            "+-----------+---------+----------+-----------+------------------+--------------------+---------+-------------------+\n",
            "\n"
          ],
          "name": "stdout"
        }
      ]
    },
    {
      "cell_type": "code",
      "metadata": {
        "id": "O-07MpKru3O9",
        "colab_type": "code",
        "colab": {}
      },
      "source": [
        ""
      ],
      "execution_count": 0,
      "outputs": []
    },
    {
      "cell_type": "code",
      "metadata": {
        "id": "IqTzazi9u3O-",
        "colab_type": "code",
        "colab": {}
      },
      "source": [
        ""
      ],
      "execution_count": 0,
      "outputs": []
    },
    {
      "cell_type": "code",
      "metadata": {
        "id": "St2zl2Z5u3PC",
        "colab_type": "code",
        "colab": {}
      },
      "source": [
        ""
      ],
      "execution_count": 0,
      "outputs": []
    },
    {
      "cell_type": "code",
      "metadata": {
        "id": "0l_tS-xju3PF",
        "colab_type": "code",
        "colab": {}
      },
      "source": [
        ""
      ],
      "execution_count": 0,
      "outputs": []
    },
    {
      "cell_type": "code",
      "metadata": {
        "id": "OjhDAeWSu3PH",
        "colab_type": "code",
        "colab": {}
      },
      "source": [
        ""
      ],
      "execution_count": 0,
      "outputs": []
    },
    {
      "cell_type": "code",
      "metadata": {
        "id": "3Fsx9CBYu3PJ",
        "colab_type": "code",
        "colab": {}
      },
      "source": [
        ""
      ],
      "execution_count": 0,
      "outputs": []
    },
    {
      "cell_type": "code",
      "metadata": {
        "id": "4ftgufYlu3PL",
        "colab_type": "code",
        "colab": {}
      },
      "source": [
        ""
      ],
      "execution_count": 0,
      "outputs": []
    },
    {
      "cell_type": "code",
      "metadata": {
        "id": "NB9mvXLeu3PM",
        "colab_type": "code",
        "colab": {}
      },
      "source": [
        ""
      ],
      "execution_count": 0,
      "outputs": []
    }
  ]
}