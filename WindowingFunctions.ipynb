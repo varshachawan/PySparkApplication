{
  "nbformat": 4,
  "nbformat_minor": 0,
  "metadata": {
    "kernelspec": {
      "display_name": "Python 3",
      "language": "python",
      "name": "python3"
    },
    "language_info": {
      "codemirror_mode": {
        "name": "ipython",
        "version": 3
      },
      "file_extension": ".py",
      "mimetype": "text/x-python",
      "name": "python",
      "nbconvert_exporter": "python",
      "pygments_lexer": "ipython3",
      "version": "3.6.4"
    },
    "colab": {
      "name": "WindowingFunctions.ipynb",
      "provenance": [],
      "toc_visible": true,
      "include_colab_link": true
    }
  },
  "cells": [
    {
      "cell_type": "markdown",
      "metadata": {
        "id": "view-in-github",
        "colab_type": "text"
      },
      "source": [
        "<a href=\"https://colab.research.google.com/github/varshachawan/PySparkApplication/blob/master/WindowingFunctions.ipynb\" target=\"_parent\"><img src=\"https://colab.research.google.com/assets/colab-badge.svg\" alt=\"Open In Colab\"/></a>"
      ]
    },
    {
      "cell_type": "markdown",
      "metadata": {
        "id": "YpugUH0Z_0eI",
        "colab_type": "text"
      },
      "source": [
        "### Window functions"
      ]
    },
    {
      "cell_type": "code",
      "metadata": {
        "id": "ng9I2m_N_3ji",
        "colab_type": "code",
        "colab": {}
      },
      "source": [
        "!apt-get install openjdk-8-jdk-headless -qq > /dev/null\n",
        "!wget -q https://mirror.olnevhost.net/pub/apache/spark/spark-2.4.5/spark-2.4.5-bin-hadoop2.7.tgz"
      ],
      "execution_count": 0,
      "outputs": []
    },
    {
      "cell_type": "code",
      "metadata": {
        "id": "LOHBueC2AEjT",
        "colab_type": "code",
        "colab": {
          "base_uri": "https://localhost:8080/",
          "height": 35
        },
        "outputId": "9feb1c2f-ab9d-4cb9-e354-e458dd1e4b56"
      },
      "source": [
        "!tar xf spark-2.4.5-bin-hadoop2.7.tgz\n",
        "!pip install -q findspark\n",
        "import os\n",
        "os.environ[\"JAVA_HOME\"]=\"/usr/lib/jvm/java-8-openjdk-amd64\"\n",
        "os.environ[\"SPARK_HOME\"]=\"/content/spark-2.4.5-bin-hadoop2.7\"\n",
        "!echo $JAVA_HOME\n",
        "import findspark\n",
        "findspark.init()"
      ],
      "execution_count": 2,
      "outputs": [
        {
          "output_type": "stream",
          "text": [
            "/usr/lib/jvm/java-8-openjdk-amd64\n"
          ],
          "name": "stdout"
        }
      ]
    },
    {
      "cell_type": "code",
      "metadata": {
        "id": "Hc_punj6_0eM",
        "colab_type": "code",
        "colab": {}
      },
      "source": [
        "from pyspark.sql import SparkSession\n",
        "\n",
        "spark = SparkSession \\\n",
        "    .builder \\\n",
        "    .appName(\"Window functions\") \\\n",
        "    .getOrCreate()"
      ],
      "execution_count": 0,
      "outputs": []
    },
    {
      "cell_type": "code",
      "metadata": {
        "id": "n2Nc013h_0eS",
        "colab_type": "code",
        "colab": {}
      },
      "source": [
        "products = spark.read\\\n",
        "                .format(\"csv\")\\\n",
        "                .option(\"header\", \"true\")\\\n",
        "                .load('./products.csv')"
      ],
      "execution_count": 0,
      "outputs": []
    },
    {
      "cell_type": "code",
      "metadata": {
        "id": "FXx67t95_0eW",
        "colab_type": "code",
        "colab": {
          "base_uri": "https://localhost:8080/",
          "height": 290
        },
        "outputId": "a9254f74-a531-401e-8549-3a45281b625d"
      },
      "source": [
        "products.show()"
      ],
      "execution_count": 5,
      "outputs": [
        {
          "output_type": "stream",
          "text": [
            "+----------+--------+-----+\n",
            "|   product|category|price|\n",
            "+----------+--------+-----+\n",
            "|Samsung TX|  Tablet|  999|\n",
            "|Samsung JX|  Mobile|  799|\n",
            "|Redmi Note|  Mobile|  399|\n",
            "|        Mi|  Mobile|  299|\n",
            "|      iPad|  Tablet|  789|\n",
            "|    iPhone|  Mobile|  999|\n",
            "|  Micromax|  Mobile|  249|\n",
            "|    Lenovo|  Tablet|  499|\n",
            "|   OnePlus|  Mobile|  356|\n",
            "|        Xu|  Tablet|  267|\n",
            "+----------+--------+-----+\n",
            "\n"
          ],
          "name": "stdout"
        }
      ]
    },
    {
      "cell_type": "markdown",
      "metadata": {
        "collapsed": true,
        "id": "S7xYMp0e_0ec",
        "colab_type": "text"
      },
      "source": [
        "#### Window rank function"
      ]
    },
    {
      "cell_type": "code",
      "metadata": {
        "id": "O53LoZ0p_0ed",
        "colab_type": "code",
        "colab": {}
      },
      "source": [
        "import sys\n",
        "from pyspark.sql.window import Window\n",
        "import pyspark.sql.functions as func"
      ],
      "execution_count": 0,
      "outputs": []
    },
    {
      "cell_type": "code",
      "metadata": {
        "id": "4B1kU5Yn_0eh",
        "colab_type": "code",
        "colab": {}
      },
      "source": [
        "windowSpec1 = Window \\\n",
        "    .partitionBy(products['category']) \\\n",
        "    .orderBy(products['price'].desc())"
      ],
      "execution_count": 0,
      "outputs": []
    },
    {
      "cell_type": "code",
      "metadata": {
        "id": "4D9R7R6t_0ep",
        "colab_type": "code",
        "colab": {}
      },
      "source": [
        "price_rank = (func.rank().over(windowSpec1))"
      ],
      "execution_count": 0,
      "outputs": []
    },
    {
      "cell_type": "code",
      "metadata": {
        "id": "98dHIOTT_0ev",
        "colab_type": "code",
        "colab": {
          "base_uri": "https://localhost:8080/",
          "height": 290
        },
        "outputId": "91ff47ad-03e3-4e06-a3f8-c6621cd8d573"
      },
      "source": [
        "product_rank = products.select(\n",
        "        products['product'],\n",
        "        products['category'],\n",
        "        products['price']\n",
        ").withColumn('rank', func.rank().over(windowSpec1))\n",
        "\n",
        "product_rank.show()"
      ],
      "execution_count": 15,
      "outputs": [
        {
          "output_type": "stream",
          "text": [
            "+----------+--------+-----+----+\n",
            "|   product|category|price|rank|\n",
            "+----------+--------+-----+----+\n",
            "|    iPhone|  Mobile|  999|   1|\n",
            "|Samsung JX|  Mobile|  799|   2|\n",
            "|   OnePlus|  Mobile|  356|   3|\n",
            "|        Mi|  Mobile|  299|   4|\n",
            "|Redmi Note|  Mobile|  249|   5|\n",
            "|  Micromax|  Mobile|  249|   5|\n",
            "|Samsung TX|  Tablet|  999|   1|\n",
            "|      iPad|  Tablet|  499|   2|\n",
            "|    Lenovo|  Tablet|  499|   2|\n",
            "|        Xu|  Tablet|  267|   4|\n",
            "+----------+--------+-----+----+\n",
            "\n"
          ],
          "name": "stdout"
        }
      ]
    },
    {
      "cell_type": "code",
      "metadata": {
        "id": "q7TJW_qJEJJw",
        "colab_type": "code",
        "colab": {
          "base_uri": "https://localhost:8080/",
          "height": 290
        },
        "outputId": "48ee174f-13e7-47d0-8ed1-78d4d3e30f32"
      },
      "source": [
        "product_rank = products.select(\n",
        "        products['product'],\n",
        "        products['category'],\n",
        "        products['price']\n",
        ").withColumn('rank', func.dense_rank().over(windowSpec1))\n",
        "\n",
        "product_rank.show()"
      ],
      "execution_count": 22,
      "outputs": [
        {
          "output_type": "stream",
          "text": [
            "+----------+--------+-----+----+\n",
            "|   product|category|price|rank|\n",
            "+----------+--------+-----+----+\n",
            "|    iPhone|  Mobile|  999|   1|\n",
            "|Samsung JX|  Mobile|  799|   2|\n",
            "|   OnePlus|  Mobile|  356|   3|\n",
            "|        Mi|  Mobile|  299|   4|\n",
            "|Redmi Note|  Mobile|  249|   5|\n",
            "|  Micromax|  Mobile|  249|   5|\n",
            "|Samsung TX|  Tablet|  999|   1|\n",
            "|      iPad|  Tablet|  499|   2|\n",
            "|    Lenovo|  Tablet|  499|   2|\n",
            "|        Xu|  Tablet|  267|   3|\n",
            "+----------+--------+-----+----+\n",
            "\n"
          ],
          "name": "stdout"
        }
      ]
    },
    {
      "cell_type": "code",
      "metadata": {
        "id": "P8994PoQCaPZ",
        "colab_type": "code",
        "colab": {
          "base_uri": "https://localhost:8080/",
          "height": 290
        },
        "outputId": "5c6e55b9-c6ad-44f9-8197-6d9148220c2f"
      },
      "source": [
        "windowSpec0 = Window \\\n",
        "    .partitionBy(products['product']) \\\n",
        "    .orderBy(products['price'].desc())\n",
        "product_rank = products.select(\n",
        "        products['product'],\n",
        "        products['category'],\n",
        "        products['price'],\n",
        ").withColumn('rank', func.rank().over(windowSpec0))\n",
        "\n",
        "product_rank.show()"
      ],
      "execution_count": 17,
      "outputs": [
        {
          "output_type": "stream",
          "text": [
            "+----------+--------+-----+----+\n",
            "|   product|category|price|rank|\n",
            "+----------+--------+-----+----+\n",
            "|        Xu|  Tablet|  267|   1|\n",
            "|      iPad|  Tablet|  499|   1|\n",
            "|Samsung JX|  Mobile|  799|   1|\n",
            "|    iPhone|  Mobile|  999|   1|\n",
            "|    Lenovo|  Tablet|  499|   1|\n",
            "|  Micromax|  Mobile|  249|   1|\n",
            "|   OnePlus|  Mobile|  356|   1|\n",
            "|Redmi Note|  Mobile|  249|   1|\n",
            "|Samsung TX|  Tablet|  999|   1|\n",
            "|        Mi|  Mobile|  299|   1|\n",
            "+----------+--------+-----+----+\n",
            "\n"
          ],
          "name": "stdout"
        }
      ]
    },
    {
      "cell_type": "markdown",
      "metadata": {
        "id": "Pd_jgMq9_0e2",
        "colab_type": "text"
      },
      "source": [
        "#### Window max function between rows"
      ]
    },
    {
      "cell_type": "code",
      "metadata": {
        "id": "w4yZanMH_0e3",
        "colab_type": "code",
        "colab": {}
      },
      "source": [
        "windowSpec2 = Window \\\n",
        "    .partitionBy(products['category']) \\\n",
        "    .orderBy(products['price'].desc()) \\\n",
        "    .rowsBetween(-1, 0)"
      ],
      "execution_count": 0,
      "outputs": []
    },
    {
      "cell_type": "code",
      "metadata": {
        "id": "doWuWs_C_0e6",
        "colab_type": "code",
        "colab": {}
      },
      "source": [
        "price_max = (func.max(products['price']).over(windowSpec2))"
      ],
      "execution_count": 0,
      "outputs": []
    },
    {
      "cell_type": "code",
      "metadata": {
        "id": "-pXkmilc_0e_",
        "colab_type": "code",
        "colab": {
          "base_uri": "https://localhost:8080/",
          "height": 290
        },
        "outputId": "69a06ad7-7a0f-48d4-8d98-497591b05ed0"
      },
      "source": [
        "products.select(\n",
        "    products['product'],\n",
        "    products['category'],\n",
        "    products['price'],\n",
        "    price_max.alias(\"price_max\")).show()"
      ],
      "execution_count": 21,
      "outputs": [
        {
          "output_type": "stream",
          "text": [
            "+----------+--------+-----+---------+\n",
            "|   product|category|price|price_max|\n",
            "+----------+--------+-----+---------+\n",
            "|    iPhone|  Mobile|  999|      999|\n",
            "|Samsung JX|  Mobile|  799|      999|\n",
            "|   OnePlus|  Mobile|  356|      799|\n",
            "|        Mi|  Mobile|  299|      356|\n",
            "|Redmi Note|  Mobile|  249|      299|\n",
            "|  Micromax|  Mobile|  249|      249|\n",
            "|Samsung TX|  Tablet|  999|      999|\n",
            "|      iPad|  Tablet|  499|      999|\n",
            "|    Lenovo|  Tablet|  499|      499|\n",
            "|        Xu|  Tablet|  267|      499|\n",
            "+----------+--------+-----+---------+\n",
            "\n"
          ],
          "name": "stdout"
        }
      ]
    },
    {
      "cell_type": "markdown",
      "metadata": {
        "id": "7iL6XtV0_0fF",
        "colab_type": "text"
      },
      "source": [
        "#### Window price difference function between ranges"
      ]
    },
    {
      "cell_type": "code",
      "metadata": {
        "id": "XvNLwPKu_0fG",
        "colab_type": "code",
        "colab": {}
      },
      "source": [
        "windowSpec3 = Window \\\n",
        "    .partitionBy(products['category']) \\\n",
        "    .orderBy(products['price'].desc()) \\\n",
        "    .rangeBetween(-sys.maxsize, sys.maxsize)"
      ],
      "execution_count": 0,
      "outputs": []
    },
    {
      "cell_type": "code",
      "metadata": {
        "id": "iWWcr-y-_0fL",
        "colab_type": "code",
        "colab": {}
      },
      "source": [
        "price_difference = \\\n",
        "  (func.max(products['price']).over(windowSpec3) - products['price'])"
      ],
      "execution_count": 0,
      "outputs": []
    },
    {
      "cell_type": "code",
      "metadata": {
        "id": "hzaGPQjt_0fQ",
        "colab_type": "code",
        "colab": {},
        "outputId": "5053eacb-4220-47d5-b6e6-c99862470d76"
      },
      "source": [
        "products.select(\n",
        "    products['product'],\n",
        "    products['category'],\n",
        "    products['price'],\n",
        "    price_difference.alias(\"price_difference\")).show()"
      ],
      "execution_count": 0,
      "outputs": [
        {
          "output_type": "stream",
          "text": [
            "+----------+--------+-----+----------------+\n",
            "|   product|category|price|price_difference|\n",
            "+----------+--------+-----+----------------+\n",
            "|    iPhone|  Mobile|  999|             0.0|\n",
            "|Samsung JX|  Mobile|  799|           200.0|\n",
            "|Redmi Note|  Mobile|  399|           600.0|\n",
            "|   OnePlus|  Mobile|  356|           643.0|\n",
            "|        Mi|  Mobile|  299|           700.0|\n",
            "|  Micromax|  Mobile|  249|           750.0|\n",
            "|Samsung TX|  Tablet|  999|             0.0|\n",
            "|      iPad|  Tablet|  789|           210.0|\n",
            "|    Lenovo|  Tablet|  499|           500.0|\n",
            "|        Xu|  Tablet|  267|           732.0|\n",
            "+----------+--------+-----+----------------+\n",
            "\n"
          ],
          "name": "stdout"
        }
      ]
    },
    {
      "cell_type": "code",
      "metadata": {
        "id": "oXZqp56r_0fU",
        "colab_type": "code",
        "colab": {}
      },
      "source": [
        "windowSpec4 = Window \\\n",
        "    .partitionBy(products['category']) \\\n",
        "    .orderBy(products['price'].asc()) \\\n",
        "    .rangeBetween(0, sys.maxsize)"
      ],
      "execution_count": 0,
      "outputs": []
    },
    {
      "cell_type": "code",
      "metadata": {
        "id": "s9GpugRA_0fX",
        "colab_type": "code",
        "colab": {},
        "outputId": "04eb2f99-f2c8-4dd0-f990-f16ed4a0ab6f"
      },
      "source": [
        "sys.maxsize"
      ],
      "execution_count": 0,
      "outputs": [
        {
          "output_type": "execute_result",
          "data": {
            "text/plain": [
              "9223372036854775807"
            ]
          },
          "metadata": {
            "tags": []
          },
          "execution_count": 105
        }
      ]
    },
    {
      "cell_type": "code",
      "metadata": {
        "id": "7KG4WQvx_0fb",
        "colab_type": "code",
        "colab": {}
      },
      "source": [
        "price_max = (func.max(products['price']).over(windowSpec4))"
      ],
      "execution_count": 0,
      "outputs": []
    },
    {
      "cell_type": "code",
      "metadata": {
        "id": "oWmrIGoJ_0fh",
        "colab_type": "code",
        "colab": {},
        "outputId": "170e68f0-f271-4ec7-fd82-d4d611ef998e"
      },
      "source": [
        "products.select(\n",
        "    products['product'],\n",
        "    products['category'],\n",
        "    products['price'],\n",
        "    price_max.alias(\"price_max\")).show()"
      ],
      "execution_count": 0,
      "outputs": [
        {
          "output_type": "stream",
          "text": [
            "+----------+--------+-----+---------+\n",
            "|   product|category|price|price_max|\n",
            "+----------+--------+-----+---------+\n",
            "|  Micromax|  Mobile|  249|      999|\n",
            "|        Mi|  Mobile|  299|      999|\n",
            "|   OnePlus|  Mobile|  356|      999|\n",
            "|Redmi Note|  Mobile|  399|      999|\n",
            "|Samsung JX|  Mobile|  799|      999|\n",
            "|    iPhone|  Mobile|  999|      999|\n",
            "|        Xu|  Tablet|  267|      999|\n",
            "|    Lenovo|  Tablet|  499|      999|\n",
            "|      iPad|  Tablet|  789|      999|\n",
            "|Samsung TX|  Tablet|  999|      999|\n",
            "+----------+--------+-----+---------+\n",
            "\n"
          ],
          "name": "stdout"
        }
      ]
    },
    {
      "cell_type": "code",
      "metadata": {
        "id": "_leCfCZH_0fm",
        "colab_type": "code",
        "colab": {}
      },
      "source": [
        ""
      ],
      "execution_count": 0,
      "outputs": []
    },
    {
      "cell_type": "code",
      "metadata": {
        "id": "JTERTHfA_0fs",
        "colab_type": "code",
        "colab": {}
      },
      "source": [
        ""
      ],
      "execution_count": 0,
      "outputs": []
    }
  ]
}