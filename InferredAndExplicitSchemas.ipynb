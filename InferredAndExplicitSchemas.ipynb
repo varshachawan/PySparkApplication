{
  "nbformat": 4,
  "nbformat_minor": 0,
  "metadata": {
    "kernelspec": {
      "display_name": "Python 3",
      "language": "python",
      "name": "python3"
    },
    "language_info": {
      "codemirror_mode": {
        "name": "ipython",
        "version": 3
      },
      "file_extension": ".py",
      "mimetype": "text/x-python",
      "name": "python",
      "nbconvert_exporter": "python",
      "pygments_lexer": "ipython3",
      "version": "3.6.4"
    },
    "colab": {
      "name": "InferredAndExplicitSchemas.ipynb",
      "provenance": [],
      "include_colab_link": true
    }
  },
  "cells": [
    {
      "cell_type": "markdown",
      "metadata": {
        "id": "view-in-github",
        "colab_type": "text"
      },
      "source": [
        "<a href=\"https://colab.research.google.com/github/varshachawan/PySparkApplication/blob/master/InferredAndExplicitSchemas.ipynb\" target=\"_parent\"><img src=\"https://colab.research.google.com/assets/colab-badge.svg\" alt=\"Open In Colab\"/></a>"
      ]
    },
    {
      "cell_type": "markdown",
      "metadata": {
        "id": "fhukz_lc9cGj",
        "colab_type": "text"
      },
      "source": [
        "### Inferred and explicit schemas"
      ]
    },
    {
      "cell_type": "code",
      "metadata": {
        "id": "aeIQvEHV9q-H",
        "colab_type": "code",
        "colab": {}
      },
      "source": [
        "!apt-get install openjdk-8-jdk-headless -qq > /dev/null\n",
        "!wget -q https://mirror.olnevhost.net/pub/apache/spark/spark-2.4.5/spark-2.4.5-bin-hadoop2.7.tgz"
      ],
      "execution_count": 0,
      "outputs": []
    },
    {
      "cell_type": "code",
      "metadata": {
        "id": "Iw2Ww4hZ91dx",
        "colab_type": "code",
        "colab": {
          "base_uri": "https://localhost:8080/",
          "height": 35
        },
        "outputId": "ca4157b2-1a79-40ac-ad3d-124395ddb5f1"
      },
      "source": [
        "!tar xf spark-2.4.5-bin-hadoop2.7.tgz\n",
        "!pip install -q findspark\n",
        "import os\n",
        "os.environ[\"JAVA_HOME\"]=\"/usr/lib/jvm/java-8-openjdk-amd64\"\n",
        "os.environ[\"SPARK_HOME\"]=\"/content/spark-2.4.5-bin-hadoop2.7\"\n",
        "!echo $JAVA_HOME\n",
        "import findspark\n",
        "findspark.init()"
      ],
      "execution_count": 2,
      "outputs": [
        {
          "output_type": "stream",
          "text": [
            "/usr/lib/jvm/java-8-openjdk-amd64\n"
          ],
          "name": "stdout"
        }
      ]
    },
    {
      "cell_type": "code",
      "metadata": {
        "id": "5-N06h3C9cGm",
        "colab_type": "code",
        "colab": {}
      },
      "source": [
        "from pyspark.sql import SparkSession\n",
        "\n",
        "spark = SparkSession \\\n",
        "    .builder \\\n",
        "    .appName(\"Inferred and explicit schemas\") \\\n",
        "    .getOrCreate()"
      ],
      "execution_count": 0,
      "outputs": []
    },
    {
      "cell_type": "code",
      "metadata": {
        "id": "3wDw1yik9cGw",
        "colab_type": "code",
        "colab": {}
      },
      "source": [
        "from pyspark.sql.types import Row\n",
        "sc = spark.sparkContext"
      ],
      "execution_count": 0,
      "outputs": []
    },
    {
      "cell_type": "markdown",
      "metadata": {
        "collapsed": true,
        "id": "5okcBskw9cG0",
        "colab_type": "text"
      },
      "source": [
        "#### Inferring schema\n",
        "\n",
        "---\n",
        "\n",
        "\n",
        "\n",
        "---\n",
        "\n",
        "\n",
        "\n",
        "---\n",
        "\n"
      ]
    },
    {
      "cell_type": "code",
      "metadata": {
        "id": "nTPIs2GR9cG1",
        "colab_type": "code",
        "colab": {}
      },
      "source": [
        "lines = sc.textFile(\"./students.txt\")"
      ],
      "execution_count": 0,
      "outputs": []
    },
    {
      "cell_type": "code",
      "metadata": {
        "id": "lPrPPzVH9cG5",
        "colab_type": "code",
        "colab": {
          "base_uri": "https://localhost:8080/",
          "height": 35
        },
        "outputId": "e662c808-7201-46ed-d05d-01b889c30136"
      },
      "source": [
        "lines"
      ],
      "execution_count": 7,
      "outputs": [
        {
          "output_type": "execute_result",
          "data": {
            "text/plain": [
              "./students.txt MapPartitionsRDD[3] at textFile at NativeMethodAccessorImpl.java:0"
            ]
          },
          "metadata": {
            "tags": []
          },
          "execution_count": 7
        }
      ]
    },
    {
      "cell_type": "code",
      "metadata": {
        "id": "_Mn6P95M9cG-",
        "colab_type": "code",
        "colab": {
          "base_uri": "https://localhost:8080/",
          "height": 90
        },
        "outputId": "93c9d238-29cb-4f4d-a67d-73f206c5e850"
      },
      "source": [
        "parts = lines.map(lambda l: l.split(\",\"))\n",
        "\n",
        "parts.collect()"
      ],
      "execution_count": 8,
      "outputs": [
        {
          "output_type": "execute_result",
          "data": {
            "text/plain": [
              "[['Emily', '44', '55', '78'],\n",
              " ['Andy', '47', '34', '89'],\n",
              " ['Rick', '55', '78', '55'],\n",
              " ['Aaron', '66', '34', '98']]"
            ]
          },
          "metadata": {
            "tags": []
          },
          "execution_count": 8
        }
      ]
    },
    {
      "cell_type": "code",
      "metadata": {
        "id": "PQVQ_Lzg9cHD",
        "colab_type": "code",
        "colab": {}
      },
      "source": [
        "students = parts.map(lambda p: Row(name=p[0], math=int(p[1]), english=int(p[2]), science=int(p[3])))"
      ],
      "execution_count": 0,
      "outputs": []
    },
    {
      "cell_type": "code",
      "metadata": {
        "id": "ydxfBsOS9cHO",
        "colab_type": "code",
        "colab": {
          "base_uri": "https://localhost:8080/",
          "height": 90
        },
        "outputId": "33277667-6ee1-4e55-a7a2-df1afb9d5c1e"
      },
      "source": [
        "students.collect()"
      ],
      "execution_count": 10,
      "outputs": [
        {
          "output_type": "execute_result",
          "data": {
            "text/plain": [
              "[Row(english=55, math=44, name='Emily', science=78),\n",
              " Row(english=34, math=47, name='Andy', science=89),\n",
              " Row(english=78, math=55, name='Rick', science=55),\n",
              " Row(english=34, math=66, name='Aaron', science=98)]"
            ]
          },
          "metadata": {
            "tags": []
          },
          "execution_count": 10
        }
      ]
    },
    {
      "cell_type": "code",
      "metadata": {
        "id": "Tbgs4vzE9cHU",
        "colab_type": "code",
        "colab": {}
      },
      "source": [
        "schemaStudents = spark.createDataFrame(students)\n",
        "\n",
        "schemaStudents.createOrReplaceTempView(\"students\")"
      ],
      "execution_count": 0,
      "outputs": []
    },
    {
      "cell_type": "code",
      "metadata": {
        "id": "O2SmtmBb9cHY",
        "colab_type": "code",
        "colab": {
          "base_uri": "https://localhost:8080/",
          "height": 35
        },
        "outputId": "c8d61532-89cc-4a03-ab9b-255ce3421565"
      },
      "source": [
        "schemaStudents.columns"
      ],
      "execution_count": 12,
      "outputs": [
        {
          "output_type": "execute_result",
          "data": {
            "text/plain": [
              "['english', 'math', 'name', 'science']"
            ]
          },
          "metadata": {
            "tags": []
          },
          "execution_count": 12
        }
      ]
    },
    {
      "cell_type": "code",
      "metadata": {
        "id": "qpCMC87_9cHb",
        "colab_type": "code",
        "colab": {
          "base_uri": "https://localhost:8080/",
          "height": 55
        },
        "outputId": "6dc432d5-5273-48ec-ed48-0fccd0ff924e"
      },
      "source": [
        "schemaStudents.schema"
      ],
      "execution_count": 13,
      "outputs": [
        {
          "output_type": "execute_result",
          "data": {
            "text/plain": [
              "StructType(List(StructField(english,LongType,true),StructField(math,LongType,true),StructField(name,StringType,true),StructField(science,LongType,true)))"
            ]
          },
          "metadata": {
            "tags": []
          },
          "execution_count": 13
        }
      ]
    },
    {
      "cell_type": "code",
      "metadata": {
        "id": "Ois4qGoP9cHg",
        "colab_type": "code",
        "colab": {
          "base_uri": "https://localhost:8080/",
          "height": 181
        },
        "outputId": "e66948ce-d171-40df-bbc2-23f4151dfcaa"
      },
      "source": [
        "spark.sql(\"SELECT * FROM students\").show()"
      ],
      "execution_count": 14,
      "outputs": [
        {
          "output_type": "stream",
          "text": [
            "+-------+----+-----+-------+\n",
            "|english|math| name|science|\n",
            "+-------+----+-----+-------+\n",
            "|     55|  44|Emily|     78|\n",
            "|     34|  47| Andy|     89|\n",
            "|     78|  55| Rick|     55|\n",
            "|     34|  66|Aaron|     98|\n",
            "+-------+----+-----+-------+\n",
            "\n"
          ],
          "name": "stdout"
        }
      ]
    },
    {
      "cell_type": "markdown",
      "metadata": {
        "id": "W31DtYX49cHm",
        "colab_type": "text"
      },
      "source": [
        "#### Explicit schema"
      ]
    },
    {
      "cell_type": "code",
      "metadata": {
        "id": "IaT0l5wc9cHn",
        "colab_type": "code",
        "colab": {
          "base_uri": "https://localhost:8080/",
          "height": 90
        },
        "outputId": "88746c3e-1479-4eae-8d6a-f483fe66be89"
      },
      "source": [
        "parts.collect()"
      ],
      "execution_count": 15,
      "outputs": [
        {
          "output_type": "execute_result",
          "data": {
            "text/plain": [
              "[['Emily', '44', '55', '78'],\n",
              " ['Andy', '47', '34', '89'],\n",
              " ['Rick', '55', '78', '55'],\n",
              " ['Aaron', '66', '34', '98']]"
            ]
          },
          "metadata": {
            "tags": []
          },
          "execution_count": 15
        }
      ]
    },
    {
      "cell_type": "code",
      "metadata": {
        "id": "AnyJdD8J9cHs",
        "colab_type": "code",
        "colab": {}
      },
      "source": [
        "schemaString = \"name math english science\""
      ],
      "execution_count": 0,
      "outputs": []
    },
    {
      "cell_type": "code",
      "metadata": {
        "id": "0VqmUlpw9cHv",
        "colab_type": "code",
        "colab": {}
      },
      "source": [
        "from pyspark.sql.types import StructType, StructField, StringType, LongType\n",
        "\n",
        "fields = [StructField('name', StringType(), True),\n",
        "          StructField('math', LongType(), True),\n",
        "          StructField('english', LongType(), True),\n",
        "          StructField('science', LongType(), True),\n",
        "]"
      ],
      "execution_count": 0,
      "outputs": []
    },
    {
      "cell_type": "code",
      "metadata": {
        "id": "jr1IyNDj9cHy",
        "colab_type": "code",
        "colab": {}
      },
      "source": [
        "schema = StructType(fields)"
      ],
      "execution_count": 0,
      "outputs": []
    },
    {
      "cell_type": "code",
      "metadata": {
        "id": "Qquq9SrJ9cH1",
        "colab_type": "code",
        "colab": {}
      },
      "source": [
        "schemaStudents = spark.createDataFrame(parts, schema)"
      ],
      "execution_count": 0,
      "outputs": []
    },
    {
      "cell_type": "code",
      "metadata": {
        "id": "zICIDwdI9cH5",
        "colab_type": "code",
        "colab": {},
        "outputId": "50561e1c-8155-469b-fffd-58448fbce8ad"
      },
      "source": [
        "schemaStudents.columns"
      ],
      "execution_count": 0,
      "outputs": [
        {
          "output_type": "execute_result",
          "data": {
            "text/plain": [
              "['name', 'math', 'english', 'science']"
            ]
          },
          "metadata": {
            "tags": []
          },
          "execution_count": 61
        }
      ]
    },
    {
      "cell_type": "code",
      "metadata": {
        "id": "KXRrc0OZ9cH9",
        "colab_type": "code",
        "colab": {},
        "outputId": "3c44abd2-8a66-4203-c91e-d7781dda35ef"
      },
      "source": [
        "schemaStudents.schema"
      ],
      "execution_count": 0,
      "outputs": [
        {
          "output_type": "execute_result",
          "data": {
            "text/plain": [
              "StructType(List(StructField(name,StringType,true),StructField(math,LongType,true),StructField(english,LongType,true),StructField(science,LongType,true)))"
            ]
          },
          "metadata": {
            "tags": []
          },
          "execution_count": 60
        }
      ]
    },
    {
      "cell_type": "code",
      "metadata": {
        "id": "ExZmRf-j9cIB",
        "colab_type": "code",
        "colab": {},
        "outputId": "968cb0e5-5d3b-4089-e39d-032c7d6b0e86"
      },
      "source": [
        "spark.sql(\"SELECT * FROM students\").show()"
      ],
      "execution_count": 0,
      "outputs": [
        {
          "output_type": "stream",
          "text": [
            "+-------+----+-----+-------+\n",
            "|english|math| name|science|\n",
            "+-------+----+-----+-------+\n",
            "|     55|  44|Emily|     78|\n",
            "|     34|  47| Andy|     89|\n",
            "|     78|  55| Rick|     55|\n",
            "|     34|  66|Aaron|     98|\n",
            "+-------+----+-----+-------+\n",
            "\n"
          ],
          "name": "stdout"
        }
      ]
    },
    {
      "cell_type": "code",
      "metadata": {
        "id": "T_cnPKpJ9cIF",
        "colab_type": "code",
        "colab": {}
      },
      "source": [
        ""
      ],
      "execution_count": 0,
      "outputs": []
    }
  ]
}