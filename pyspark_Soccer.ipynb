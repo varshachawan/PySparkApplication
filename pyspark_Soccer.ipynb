{
  "nbformat": 4,
  "nbformat_minor": 0,
  "metadata": {
    "kernelspec": {
      "display_name": "Python 3",
      "language": "python",
      "name": "python3"
    },
    "language_info": {
      "codemirror_mode": {
        "name": "ipython",
        "version": 3
      },
      "file_extension": ".py",
      "mimetype": "text/x-python",
      "name": "python",
      "nbconvert_exporter": "python",
      "pygments_lexer": "ipython3",
      "version": "3.6.4"
    },
    "colab": {
      "name": "pyspark_Soccer.ipynb",
      "provenance": [],
      "toc_visible": true,
      "include_colab_link": true
    },
    "accelerator": "GPU"
  },
  "cells": [
    {
      "cell_type": "markdown",
      "metadata": {
        "id": "view-in-github",
        "colab_type": "text"
      },
      "source": [
        "<a href=\"https://colab.research.google.com/github/varshachawan/PySparkApplication/blob/master/pyspark_Soccer.ipynb\" target=\"_parent\"><img src=\"https://colab.research.google.com/assets/colab-badge.svg\" alt=\"Open In Colab\"/></a>"
      ]
    },
    {
      "cell_type": "markdown",
      "metadata": {
        "id": "MNaMgJQqkrck",
        "colab_type": "text"
      },
      "source": [
        "### Analyzing soccer players"
      ]
    },
    {
      "cell_type": "code",
      "metadata": {
        "id": "0djxRsoHktbx",
        "colab_type": "code",
        "colab": {}
      },
      "source": [
        "!apt-get install openjdk-8-jdk-headless -qq > /dev/null\n",
        "!wget -q https://mirror.olnevhost.net/pub/apache/spark/spark-2.4.5/spark-2.4.5-bin-hadoop2.7.tgz"
      ],
      "execution_count": 0,
      "outputs": []
    },
    {
      "cell_type": "code",
      "metadata": {
        "id": "9-GTs26kk4ji",
        "colab_type": "code",
        "outputId": "65fc9609-e4cd-4f82-e0b8-0f7cfbb8ff6a",
        "colab": {
          "base_uri": "https://localhost:8080/",
          "height": 35
        }
      },
      "source": [
        "!tar xf spark-2.4.5-bin-hadoop2.7.tgz\n",
        "!pip install -q findspark\n",
        "import os\n",
        "os.environ[\"JAVA_HOME\"]=\"/usr/lib/jvm/java-8-openjdk-amd64\"\n",
        "os.environ[\"SPARK_HOME\"]=\"/content/spark-2.4.5-bin-hadoop2.7\"\n",
        "!echo $JAVA_HOME\n",
        "import findspark\n",
        "findspark.init()"
      ],
      "execution_count": 0,
      "outputs": [
        {
          "output_type": "stream",
          "text": [
            "/usr/lib/jvm/java-8-openjdk-amd64\n"
          ],
          "name": "stdout"
        }
      ]
    },
    {
      "cell_type": "code",
      "metadata": {
        "id": "fyC7pthHkrcm",
        "colab_type": "code",
        "colab": {}
      },
      "source": [
        "from pyspark.sql import SparkSession\n",
        "\n",
        "spark = SparkSession \\\n",
        "    .builder \\\n",
        "    .appName(\"Analyzing soccer players\") \\\n",
        "    .getOrCreate()"
      ],
      "execution_count": 0,
      "outputs": []
    },
    {
      "cell_type": "code",
      "metadata": {
        "id": "52a0KsYrkrcs",
        "colab_type": "code",
        "colab": {}
      },
      "source": [
        "players = spark.read\\\n",
        "               .format(\"csv\")\\\n",
        "               .option(\"header\", \"true\")\\\n",
        "               .load(\"./player.csv\")"
      ],
      "execution_count": 0,
      "outputs": []
    },
    {
      "cell_type": "code",
      "metadata": {
        "id": "2FpvGc9jkrcy",
        "colab_type": "code",
        "outputId": "459ded98-f1fe-40cf-ea1a-8f62a44236de",
        "colab": {}
      },
      "source": [
        "players.printSchema()"
      ],
      "execution_count": 0,
      "outputs": [
        {
          "output_type": "stream",
          "text": [
            "root\n",
            " |-- id: string (nullable = true)\n",
            " |-- player_api_id: string (nullable = true)\n",
            " |-- player_name: string (nullable = true)\n",
            " |-- player_fifa_api_id: string (nullable = true)\n",
            " |-- birthday: string (nullable = true)\n",
            " |-- height: string (nullable = true)\n",
            " |-- weight: string (nullable = true)\n",
            "\n"
          ],
          "name": "stdout"
        }
      ]
    },
    {
      "cell_type": "code",
      "metadata": {
        "id": "lqaROMLfkrdB",
        "colab_type": "code",
        "outputId": "64e6021b-8aa5-4f89-ab6a-6c3dac6dac0a",
        "colab": {}
      },
      "source": [
        "players.show(5)"
      ],
      "execution_count": 0,
      "outputs": [
        {
          "output_type": "stream",
          "text": [
            "+---+-------------+------------------+------------------+-------------------+------+------+\n",
            "| id|player_api_id|       player_name|player_fifa_api_id|           birthday|height|weight|\n",
            "+---+-------------+------------------+------------------+-------------------+------+------+\n",
            "|  1|       505942|Aaron Appindangoye|            218353|1992-02-29 00:00:00|182.88|   187|\n",
            "|  2|       155782|   Aaron Cresswell|            189615|1989-12-15 00:00:00|170.18|   146|\n",
            "|  3|       162549|       Aaron Doran|            186170|1991-05-13 00:00:00|170.18|   163|\n",
            "|  4|        30572|     Aaron Galindo|            140161|1982-05-08 00:00:00|182.88|   198|\n",
            "|  5|        23780|      Aaron Hughes|             17725|1979-11-08 00:00:00|182.88|   154|\n",
            "+---+-------------+------------------+------------------+-------------------+------+------+\n",
            "only showing top 5 rows\n",
            "\n"
          ],
          "name": "stdout"
        }
      ]
    },
    {
      "cell_type": "code",
      "metadata": {
        "id": "xzt2StJFkrdG",
        "colab_type": "code",
        "colab": {}
      },
      "source": [
        "player_attributes = spark.read\\\n",
        "                         .format(\"csv\")\\\n",
        "                         .option(\"header\", \"true\")\\\n",
        "                         .load(\"./player_attributes.csv\")"
      ],
      "execution_count": 0,
      "outputs": []
    },
    {
      "cell_type": "code",
      "metadata": {
        "id": "uRFHcLM0krdL",
        "colab_type": "code",
        "colab": {}
      },
      "source": [
        "player_attributes.printSchema()"
      ],
      "execution_count": 0,
      "outputs": []
    },
    {
      "cell_type": "markdown",
      "metadata": {
        "id": "V_nmVBFxkrdQ",
        "colab_type": "text"
      },
      "source": [
        "#### Player attributes\n",
        "\n",
        "* Have values across multiple years\n",
        "* Can be associated with a particular player using the **player_api_id** column\n",
        "* Different attributes are valuable for different kinds of players i.e strikers, midfields, goalkeepers"
      ]
    },
    {
      "cell_type": "code",
      "metadata": {
        "id": "AHvK0vq7krdR",
        "colab_type": "code",
        "outputId": "b99157e1-1164-4bfd-c55f-efdeaff95311",
        "colab": {}
      },
      "source": [
        "players.count() , player_attributes.count()"
      ],
      "execution_count": 0,
      "outputs": [
        {
          "output_type": "execute_result",
          "data": {
            "text/plain": [
              "(11060, 183978)"
            ]
          },
          "metadata": {
            "tags": []
          },
          "execution_count": 7
        }
      ]
    },
    {
      "cell_type": "code",
      "metadata": {
        "id": "Ms3H2tPYkrdW",
        "colab_type": "code",
        "outputId": "f5d4fef0-9dce-48df-d69d-2d1c405812c4",
        "colab": {}
      },
      "source": [
        "player_attributes.select('player_api_id')\\\n",
        "                 .distinct()\\\n",
        "                 .count()"
      ],
      "execution_count": 0,
      "outputs": [
        {
          "output_type": "execute_result",
          "data": {
            "text/plain": [
              "11060"
            ]
          },
          "metadata": {
            "tags": []
          },
          "execution_count": 8
        }
      ]
    },
    {
      "cell_type": "markdown",
      "metadata": {
        "id": "TiT0zKT-krdc",
        "colab_type": "text"
      },
      "source": [
        "### Cleaning Data"
      ]
    },
    {
      "cell_type": "code",
      "metadata": {
        "id": "P5Pq7Fb1vQk0",
        "colab_type": "code",
        "colab": {}
      },
      "source": [
        "# null_val = players.select( for c in players.columns)"
      ],
      "execution_count": 0,
      "outputs": []
    },
    {
      "cell_type": "code",
      "metadata": {
        "id": "V9qvzOFSkrdd",
        "colab_type": "code",
        "outputId": "44fa7742-6dd8-449e-f7ee-33ce73a23ed2",
        "colab": {}
      },
      "source": [
        "players = players.drop('id', 'player_fifa_api_id')\n",
        "players.columns"
      ],
      "execution_count": 0,
      "outputs": [
        {
          "output_type": "execute_result",
          "data": {
            "text/plain": [
              "['player_api_id', 'player_name', 'birthday', 'height', 'weight']"
            ]
          },
          "metadata": {
            "tags": []
          },
          "execution_count": 9
        }
      ]
    },
    {
      "cell_type": "markdown",
      "metadata": {
        "id": "EKXNKXFrkrdh",
        "colab_type": "text"
      },
      "source": [
        "According to our requirement there are certain traits which we are not at all going to use in this entire program<br>\n",
        "So its better to remove those traits to make our dataset less bulky"
      ]
    },
    {
      "cell_type": "code",
      "metadata": {
        "id": "ql9Hg6HHkrdi",
        "colab_type": "code",
        "outputId": "371776a0-a6c5-4a9c-a8ac-43c8a32b2887",
        "colab": {}
      },
      "source": [
        "player_attributes = player_attributes.drop(\n",
        "    'id', \n",
        "    'player_fifa_api_id', \n",
        "    'preferred_foot',\n",
        "    'attacking_work_rate',\n",
        "    'defensive_work_rate',\n",
        "    'crossing',\n",
        "    'jumping',\n",
        "    'sprint_speed',\n",
        "    'balance',\n",
        "    'aggression',\n",
        "    'short_passing',\n",
        "    'potential'\n",
        ")\n",
        "player_attributes.columns"
      ],
      "execution_count": 0,
      "outputs": [
        {
          "output_type": "execute_result",
          "data": {
            "text/plain": [
              "['player_api_id',\n",
              " 'date',\n",
              " 'overall_rating',\n",
              " 'finishing',\n",
              " 'heading_accuracy',\n",
              " 'volleys',\n",
              " 'dribbling',\n",
              " 'curve',\n",
              " 'free_kick_accuracy',\n",
              " 'long_passing',\n",
              " 'ball_control',\n",
              " 'acceleration',\n",
              " 'agility',\n",
              " 'reactions',\n",
              " 'shot_power',\n",
              " 'stamina',\n",
              " 'strength',\n",
              " 'long_shots',\n",
              " 'interceptions',\n",
              " 'positioning',\n",
              " 'vision',\n",
              " 'penalties',\n",
              " 'marking',\n",
              " 'standing_tackle',\n",
              " 'sliding_tackle',\n",
              " 'gk_diving',\n",
              " 'gk_handling',\n",
              " 'gk_kicking',\n",
              " 'gk_positioning',\n",
              " 'gk_reflexes']"
            ]
          },
          "metadata": {
            "tags": []
          },
          "execution_count": 10
        }
      ]
    },
    {
      "cell_type": "code",
      "metadata": {
        "id": "6XEpBZ7nkrdm",
        "colab_type": "code",
        "colab": {}
      },
      "source": [
        "player_attributes = player_attributes.dropna()\n",
        "players = players.dropna()"
      ],
      "execution_count": 0,
      "outputs": []
    },
    {
      "cell_type": "code",
      "metadata": {
        "id": "8Rv3QYEDkrdu",
        "colab_type": "code",
        "outputId": "64a3fb60-168f-4160-f4fb-1d6c5768ee01",
        "colab": {}
      },
      "source": [
        "players.count() , player_attributes.count()"
      ],
      "execution_count": 0,
      "outputs": [
        {
          "output_type": "execute_result",
          "data": {
            "text/plain": [
              "(11060, 181265)"
            ]
          },
          "metadata": {
            "tags": []
          },
          "execution_count": 12
        }
      ]
    },
    {
      "cell_type": "markdown",
      "metadata": {
        "collapsed": true,
        "id": "j7B3JWSDkrdz",
        "colab_type": "text"
      },
      "source": [
        "#### Extract year information into a separate column"
      ]
    },
    {
      "cell_type": "code",
      "metadata": {
        "id": "IgXirFkokrd0",
        "colab_type": "code",
        "colab": {}
      },
      "source": [
        "from pyspark.sql.functions import udf"
      ],
      "execution_count": 0,
      "outputs": []
    },
    {
      "cell_type": "code",
      "metadata": {
        "id": "7zidAJ2jkrd3",
        "colab_type": "code",
        "colab": {}
      },
      "source": [
        "year_extract_udf = udf(lambda date: date.split('-')[0])\n",
        "\n",
        "player_attributes = player_attributes.withColumn(\n",
        "    \"year\",\n",
        "    year_extract_udf(player_attributes.date)\n",
        ")"
      ],
      "execution_count": 0,
      "outputs": []
    },
    {
      "cell_type": "code",
      "metadata": {
        "id": "s-MmHhASkrd7",
        "colab_type": "code",
        "colab": {}
      },
      "source": [
        "player_attributes = player_attributes.drop('date')"
      ],
      "execution_count": 0,
      "outputs": []
    },
    {
      "cell_type": "code",
      "metadata": {
        "id": "j_s2S4i7krd_",
        "colab_type": "code",
        "outputId": "6b3c97fe-f858-4fdc-b9ba-fe81eec34cf4",
        "colab": {
          "base_uri": "https://localhost:8080/",
          "height": 781
        }
      },
      "source": [
        "player_attributes.columns"
      ],
      "execution_count": 12,
      "outputs": [
        {
          "output_type": "execute_result",
          "data": {
            "text/plain": [
              "['id',\n",
              " 'player_fifa_api_id',\n",
              " 'player_api_id',\n",
              " 'overall_rating',\n",
              " 'potential',\n",
              " 'preferred_foot',\n",
              " 'attacking_work_rate',\n",
              " 'defensive_work_rate',\n",
              " 'crossing',\n",
              " 'finishing',\n",
              " 'heading_accuracy',\n",
              " 'short_passing',\n",
              " 'volleys',\n",
              " 'dribbling',\n",
              " 'curve',\n",
              " 'free_kick_accuracy',\n",
              " 'long_passing',\n",
              " 'ball_control',\n",
              " 'acceleration',\n",
              " 'sprint_speed',\n",
              " 'agility',\n",
              " 'reactions',\n",
              " 'balance',\n",
              " 'shot_power',\n",
              " 'jumping',\n",
              " 'stamina',\n",
              " 'strength',\n",
              " 'long_shots',\n",
              " 'aggression',\n",
              " 'interceptions',\n",
              " 'positioning',\n",
              " 'vision',\n",
              " 'penalties',\n",
              " 'marking',\n",
              " 'standing_tackle',\n",
              " 'sliding_tackle',\n",
              " 'gk_diving',\n",
              " 'gk_handling',\n",
              " 'gk_kicking',\n",
              " 'gk_positioning',\n",
              " 'gk_reflexes',\n",
              " 'year']"
            ]
          },
          "metadata": {
            "tags": []
          },
          "execution_count": 12
        }
      ]
    },
    {
      "cell_type": "markdown",
      "metadata": {
        "id": "jm1BlVQTkreD",
        "colab_type": "text"
      },
      "source": [
        "#### Filter to get all players who were active in the year 2016"
      ]
    },
    {
      "cell_type": "code",
      "metadata": {
        "id": "71zV5WOakreF",
        "colab_type": "code",
        "colab": {}
      },
      "source": [
        "pa_2016 = player_attributes.filter(player_attributes.year == 2016)"
      ],
      "execution_count": 0,
      "outputs": []
    },
    {
      "cell_type": "code",
      "metadata": {
        "id": "2B72_6MQkreJ",
        "colab_type": "code",
        "outputId": "1d8342bc-ef35-41ef-9c5b-ba9a25aa8782",
        "colab": {}
      },
      "source": [
        "pa_2016.count()"
      ],
      "execution_count": 0,
      "outputs": [
        {
          "output_type": "execute_result",
          "data": {
            "text/plain": [
              "14098"
            ]
          },
          "metadata": {
            "tags": []
          },
          "execution_count": 18
        }
      ]
    },
    {
      "cell_type": "code",
      "metadata": {
        "id": "lr-T93lekreN",
        "colab_type": "code",
        "outputId": "bf51ee1b-c313-471c-ba22-8f45dab43fe7",
        "colab": {}
      },
      "source": [
        "pa_2016.select(pa_2016.player_api_id)\\\n",
        "       .distinct()\\\n",
        "       .count()"
      ],
      "execution_count": 0,
      "outputs": [
        {
          "output_type": "execute_result",
          "data": {
            "text/plain": [
              "5586"
            ]
          },
          "metadata": {
            "tags": []
          },
          "execution_count": 19
        }
      ]
    },
    {
      "cell_type": "code",
      "metadata": {
        "id": "KIHTHSwBwnmG",
        "colab_type": "code",
        "colab": {
          "base_uri": "https://localhost:8080/",
          "height": 490
        },
        "outputId": "87a0f142-d306-4158-91d7-4c9fc3f58b7d"
      },
      "source": [
        "pa_2016.select('player_api_id').distinct().show()"
      ],
      "execution_count": 18,
      "outputs": [
        {
          "output_type": "stream",
          "text": [
            "+-------------+\n",
            "|player_api_id|\n",
            "+-------------+\n",
            "|       309726|\n",
            "|        26112|\n",
            "|        38433|\n",
            "|       295060|\n",
            "|       161396|\n",
            "|        37774|\n",
            "|        41157|\n",
            "|        40740|\n",
            "|        31432|\n",
            "|       109653|\n",
            "|       282680|\n",
            "|       210428|\n",
            "|       190851|\n",
            "|       419238|\n",
            "|       664587|\n",
            "|       239352|\n",
            "|       190801|\n",
            "|       196957|\n",
            "|       173922|\n",
            "|       121080|\n",
            "+-------------+\n",
            "only showing top 20 rows\n",
            "\n"
          ],
          "name": "stdout"
        }
      ]
    },
    {
      "cell_type": "markdown",
      "metadata": {
        "id": "FveJls6TkreR",
        "colab_type": "text"
      },
      "source": [
        "#### Find the best striker in the year 2016\n",
        "\n",
        "* Consider the scores for finishing, shot_power and acceleration to determine this\n",
        "* There can be more than one entry for a player in the year (multiple seasons, some teams make entries per quarter)\n",
        "* Find the average scores across the multiple records"
      ]
    },
    {
      "cell_type": "code",
      "metadata": {
        "id": "5-SaON9rkreS",
        "colab_type": "code",
        "colab": {}
      },
      "source": [
        "pa_striker_2016 = pa_2016.groupBy('player_api_id')\\\n",
        "                       .agg({\n",
        "                           'finishing':\"avg\",\n",
        "                           \"shot_power\":\"avg\",\n",
        "                           \"acceleration\":\"avg\"\n",
        "                       })"
      ],
      "execution_count": 0,
      "outputs": []
    },
    {
      "cell_type": "code",
      "metadata": {
        "id": "kO8E8hH9kreU",
        "colab_type": "code",
        "outputId": "c991ed66-879a-4457-d313-462d1d1f3660",
        "colab": {}
      },
      "source": [
        "pa_striker_2016.count()"
      ],
      "execution_count": 0,
      "outputs": [
        {
          "output_type": "execute_result",
          "data": {
            "text/plain": [
              "5586"
            ]
          },
          "metadata": {
            "tags": []
          },
          "execution_count": 21
        }
      ]
    },
    {
      "cell_type": "code",
      "metadata": {
        "id": "SCZidkm1kreY",
        "colab_type": "code",
        "outputId": "c6756306-fa5f-42b5-8695-a4b23b4b4626",
        "colab": {}
      },
      "source": [
        "pa_striker_2016.show(5)"
      ],
      "execution_count": 0,
      "outputs": [
        {
          "output_type": "stream",
          "text": [
            "+-------------+-----------------+-----------------+---------------+\n",
            "|player_api_id|   avg(finishing)|avg(acceleration)|avg(shot_power)|\n",
            "+-------------+-----------------+-----------------+---------------+\n",
            "|       309726|75.44444444444444|74.11111111111111|           76.0|\n",
            "|        26112|             53.0|             51.0|           76.0|\n",
            "|        38433|            68.25|             74.0|           74.0|\n",
            "|       295060|             25.0|             62.0|           40.0|\n",
            "|       161396|             29.0|             72.0|           69.0|\n",
            "+-------------+-----------------+-----------------+---------------+\n",
            "only showing top 5 rows\n",
            "\n"
          ],
          "name": "stdout"
        }
      ]
    },
    {
      "cell_type": "code",
      "metadata": {
        "id": "K4bNeiz6kree",
        "colab_type": "code",
        "colab": {}
      },
      "source": [
        "pa_striker_2016 = pa_striker_2016.withColumnRenamed(\"avg(finishing)\",\"finishing\")\\\n",
        "                                 .withColumnRenamed(\"avg(shot_power)\",\"shot_power\")\\\n",
        "                                 .withColumnRenamed(\"avg(acceleration)\",\"acceleration\")"
      ],
      "execution_count": 0,
      "outputs": []
    },
    {
      "cell_type": "markdown",
      "metadata": {
        "id": "GRnwsx2Hkreh",
        "colab_type": "text"
      },
      "source": [
        "#### Find an aggregate score to represent how good a particular player is\n",
        "\n",
        "* Each attribute has a weighing factor\n",
        "* Find a total score for each striker"
      ]
    },
    {
      "cell_type": "code",
      "metadata": {
        "id": "uXK6N9Uakrei",
        "colab_type": "code",
        "colab": {}
      },
      "source": [
        "weight_finishing = 1\n",
        "weight_shot_power = 2\n",
        "weight_acceleration = 1\n",
        "\n",
        "total_weight = weight_finishing + weight_shot_power + weight_acceleration"
      ],
      "execution_count": 0,
      "outputs": []
    },
    {
      "cell_type": "code",
      "metadata": {
        "scrolled": true,
        "id": "lhMXNYI-kreo",
        "colab_type": "code",
        "colab": {}
      },
      "source": [
        "strikers = pa_striker_2016.withColumn(\"striker_grade\",\n",
        "                                      (pa_striker_2016.finishing * weight_finishing + \\\n",
        "                                       pa_striker_2016.shot_power * weight_shot_power+ \\\n",
        "                                       pa_striker_2016.acceleration * weight_acceleration) / total_weight)"
      ],
      "execution_count": 0,
      "outputs": []
    },
    {
      "cell_type": "code",
      "metadata": {
        "id": "N-t0mszakreu",
        "colab_type": "code",
        "colab": {}
      },
      "source": [
        "strikers = strikers.drop('finishing',\n",
        "                         'acceleration',\n",
        "                         'shot_power'\n",
        ")"
      ],
      "execution_count": 0,
      "outputs": []
    },
    {
      "cell_type": "code",
      "metadata": {
        "scrolled": false,
        "id": "G9z1PGE_krex",
        "colab_type": "code",
        "outputId": "341eaeb6-171a-4b05-bee5-ae770a4e19b4",
        "colab": {}
      },
      "source": [
        "strikers = strikers.filter(strikers.striker_grade > 70)\\\n",
        "                   .sort(strikers.striker_grade.desc())\n",
        "    \n",
        "strikers.show(10)"
      ],
      "execution_count": 0,
      "outputs": [
        {
          "output_type": "stream",
          "text": [
            "+-------------+-----------------+\n",
            "|player_api_id|    striker_grade|\n",
            "+-------------+-----------------+\n",
            "|        20276|            89.25|\n",
            "|        37412|             89.0|\n",
            "|        38817|            88.75|\n",
            "|        32118|            88.25|\n",
            "|        31921|             87.0|\n",
            "|        30834|            86.75|\n",
            "|       303824|85.10714285714286|\n",
            "|       129944|             85.0|\n",
            "|       150565|            84.75|\n",
            "|       158263|            84.75|\n",
            "+-------------+-----------------+\n",
            "only showing top 10 rows\n",
            "\n"
          ],
          "name": "stdout"
        }
      ]
    },
    {
      "cell_type": "code",
      "metadata": {
        "id": "dOq7765px3Q3",
        "colab_type": "code",
        "colab": {
          "base_uri": "https://localhost:8080/",
          "height": 308
        },
        "outputId": "652a05ef-8025-4617-ac2a-8d4a4367ba50"
      },
      "source": [
        "strikers = strikers.filter(strikers.striker_grade > 70)\\\n",
        "                   .orderBy(strikers.striker_grade.desc())\n",
        "    \n",
        "strikers.show(10)"
      ],
      "execution_count": 25,
      "outputs": [
        {
          "output_type": "stream",
          "text": [
            "+-------------+-----------------+------------+----------+-----------------+\n",
            "|player_api_id|        finishing|acceleration|shot_power|    striker_grade|\n",
            "+-------------+-----------------+------------+----------+-----------------+\n",
            "|        20276|             85.0|        84.0|      94.0|            89.25|\n",
            "|        37412|             90.0|        92.0|      87.0|             89.0|\n",
            "|        38817|             88.0|        90.0|      88.5|            88.75|\n",
            "|        32118|             85.0|        82.0|      93.0|            88.25|\n",
            "|        31921|             81.0|        93.0|      87.0|             87.0|\n",
            "|        30834|             85.0|        90.0|      86.0|            86.75|\n",
            "|       303824|73.42857142857143|        91.0|      88.0|85.10714285714286|\n",
            "|       129944|             83.0|        89.0|      84.0|             85.0|\n",
            "|       150565|             88.0|        95.0|      78.0|            84.75|\n",
            "|       158263|             77.0|        90.0|      86.0|            84.75|\n",
            "+-------------+-----------------+------------+----------+-----------------+\n",
            "only showing top 10 rows\n",
            "\n"
          ],
          "name": "stdout"
        }
      ]
    },
    {
      "cell_type": "markdown",
      "metadata": {
        "collapsed": true,
        "id": "zvYBxQU0kre1",
        "colab_type": "text"
      },
      "source": [
        "#### Find name and other details of the best strikers\n",
        "\n",
        "* The information is present in the *players* dataframe\n",
        "* Will involve a join operation between *players* and *strikers*"
      ]
    },
    {
      "cell_type": "code",
      "metadata": {
        "id": "2NwHNT3skre2",
        "colab_type": "code",
        "outputId": "d7fb6d09-c4a2-4089-da79-a13176332195",
        "colab": {}
      },
      "source": [
        "strikers.count(), players.count()"
      ],
      "execution_count": 0,
      "outputs": [
        {
          "output_type": "execute_result",
          "data": {
            "text/plain": [
              "(1609, 11060)"
            ]
          },
          "metadata": {
            "tags": []
          },
          "execution_count": 33
        }
      ]
    },
    {
      "cell_type": "markdown",
      "metadata": {
        "id": "bVDzsL9Ukre7",
        "colab_type": "text"
      },
      "source": [
        "#### Joining dataframes"
      ]
    },
    {
      "cell_type": "code",
      "metadata": {
        "id": "_zCzG4AQkre8",
        "colab_type": "code",
        "colab": {}
      },
      "source": [
        "striker_details = players.join(strikers, players.player_api_id == strikers.player_api_id)"
      ],
      "execution_count": 0,
      "outputs": []
    },
    {
      "cell_type": "code",
      "metadata": {
        "id": "gmmR8ACNkrfA",
        "colab_type": "code",
        "outputId": "6f02128e-1f56-44ff-c126-737c1c6b1eee",
        "colab": {
          "base_uri": "https://localhost:8080/",
          "height": 235
        }
      },
      "source": [
        "striker_details.columns"
      ],
      "execution_count": 27,
      "outputs": [
        {
          "output_type": "execute_result",
          "data": {
            "text/plain": [
              "['id',\n",
              " 'player_api_id',\n",
              " 'player_name',\n",
              " 'player_fifa_api_id',\n",
              " 'birthday',\n",
              " 'height',\n",
              " 'weight',\n",
              " 'player_api_id',\n",
              " 'finishing',\n",
              " 'acceleration',\n",
              " 'shot_power',\n",
              " 'striker_grade']"
            ]
          },
          "metadata": {
            "tags": []
          },
          "execution_count": 27
        }
      ]
    },
    {
      "cell_type": "code",
      "metadata": {
        "id": "ZfGpRigRkrfE",
        "colab_type": "code",
        "outputId": "7a0913e9-55ca-45d9-8f9d-eff1aa0cdfb2",
        "colab": {
          "base_uri": "https://localhost:8080/",
          "height": 35
        }
      },
      "source": [
        "striker_details.count()"
      ],
      "execution_count": 28,
      "outputs": [
        {
          "output_type": "execute_result",
          "data": {
            "text/plain": [
              "1609"
            ]
          },
          "metadata": {
            "tags": []
          },
          "execution_count": 28
        }
      ]
    },
    {
      "cell_type": "code",
      "metadata": {
        "id": "35HYHFHGkrfH",
        "colab_type": "code",
        "colab": {}
      },
      "source": [
        "striker_details = players.join(strikers, ['player_api_id'])"
      ],
      "execution_count": 0,
      "outputs": []
    },
    {
      "cell_type": "code",
      "metadata": {
        "id": "9-uDyTd-krfK",
        "colab_type": "code",
        "outputId": "59968366-3e0e-41f6-b02a-1b0f5150b20b",
        "colab": {}
      },
      "source": [
        "striker_details.show(5)"
      ],
      "execution_count": 0,
      "outputs": [
        {
          "output_type": "stream",
          "text": [
            "+-------------+--------------+-------------------+------+------+-------------+\n",
            "|player_api_id|   player_name|           birthday|height|weight|striker_grade|\n",
            "+-------------+--------------+-------------------+------+------+-------------+\n",
            "|        20276|          Hulk|1986-07-25 00:00:00|180.34|   187|        89.25|\n",
            "|        37412| Sergio Aguero|1988-06-02 00:00:00|172.72|   163|         89.0|\n",
            "|        38817|  Carlos Tevez|1984-02-05 00:00:00|172.72|   157|        88.75|\n",
            "|        32118|Lukas Podolski|1985-06-04 00:00:00|182.88|   183|        88.25|\n",
            "|        31921|   Gareth Bale|1989-07-16 00:00:00|182.88|   163|         87.0|\n",
            "+-------------+--------------+-------------------+------+------+-------------+\n",
            "only showing top 5 rows\n",
            "\n"
          ],
          "name": "stdout"
        }
      ]
    },
    {
      "cell_type": "markdown",
      "metadata": {
        "id": "HODsmLyHkrfR",
        "colab_type": "text"
      },
      "source": [
        "### Broadcast & Join\n",
        "\n",
        "* Broadcast the smaller dataframe so it is available on all cluster machines\n",
        "* The data should be small enough so it is held in memory\n",
        "* All nodes in the cluster distribute the data as fast as they can so overall computation is faster"
      ]
    },
    {
      "cell_type": "code",
      "metadata": {
        "id": "cYFhpC5OkrfS",
        "colab_type": "code",
        "colab": {}
      },
      "source": [
        "from pyspark.sql.functions import broadcast"
      ],
      "execution_count": 0,
      "outputs": []
    },
    {
      "cell_type": "code",
      "metadata": {
        "scrolled": true,
        "id": "K4TYn8eqkrfV",
        "colab_type": "code",
        "colab": {}
      },
      "source": [
        "striker_details = players.select(\n",
        "                                \"player_api_id\",\n",
        "                                \"player_name\"\n",
        "                                 )\\\n",
        "                  .join(\n",
        "                        broadcast(strikers), \n",
        "                        ['player_api_id'],   \n",
        "                        'inner'\n",
        "                  )"
      ],
      "execution_count": 0,
      "outputs": []
    },
    {
      "cell_type": "code",
      "metadata": {
        "id": "_FYC_Ifrkrfa",
        "colab_type": "code",
        "colab": {}
      },
      "source": [
        "striker_details = striker_details.sort(striker_details.striker_grade.desc())"
      ],
      "execution_count": 0,
      "outputs": []
    },
    {
      "cell_type": "code",
      "metadata": {
        "id": "giiim5Oukrfk",
        "colab_type": "code",
        "outputId": "83021bee-1321-49e4-937f-6baf250d6ddb",
        "colab": {}
      },
      "source": [
        "striker_details.show(5)"
      ],
      "execution_count": 0,
      "outputs": [
        {
          "output_type": "stream",
          "text": [
            "+-------------+--------------+-------------------+------+------+-------------+\n",
            "|player_api_id|   player_name|           birthday|height|weight|striker_grade|\n",
            "+-------------+--------------+-------------------+------+------+-------------+\n",
            "|        20276|          Hulk|1986-07-25 00:00:00|180.34|   187|        89.25|\n",
            "|        37412| Sergio Aguero|1988-06-02 00:00:00|172.72|   163|         89.0|\n",
            "|        38817|  Carlos Tevez|1984-02-05 00:00:00|172.72|   157|        88.75|\n",
            "|        32118|Lukas Podolski|1985-06-04 00:00:00|182.88|   183|        88.25|\n",
            "|        31921|   Gareth Bale|1989-07-16 00:00:00|182.88|   163|         87.0|\n",
            "+-------------+--------------+-------------------+------+------+-------------+\n",
            "only showing top 5 rows\n",
            "\n"
          ],
          "name": "stdout"
        }
      ]
    },
    {
      "cell_type": "markdown",
      "metadata": {
        "id": "H-a0hp2Bkrfr",
        "colab_type": "text"
      },
      "source": [
        "### Accumulators\n",
        "\n",
        "* Shared variables which are updated by processes running across multiple nodes"
      ]
    },
    {
      "cell_type": "code",
      "metadata": {
        "id": "hCYopjxpkrfs",
        "colab_type": "code",
        "outputId": "614ec75a-609e-4f4a-8d0c-5897bf6a11ad",
        "colab": {}
      },
      "source": [
        "players.count(), player_attributes.count()"
      ],
      "execution_count": 0,
      "outputs": [
        {
          "output_type": "execute_result",
          "data": {
            "text/plain": [
              "(11060, 181265)"
            ]
          },
          "metadata": {
            "tags": []
          },
          "execution_count": 42
        }
      ]
    },
    {
      "cell_type": "code",
      "metadata": {
        "id": "H6q07ok2krfy",
        "colab_type": "code",
        "colab": {}
      },
      "source": [
        "players_heading_acc = player_attributes.select('player_api_id',\n",
        "                                               'heading_accuracy')\\\n",
        "                                       .join(broadcast(players),\n",
        "                                             player_attributes.player_api_id == players.player_api_id)"
      ],
      "execution_count": 0,
      "outputs": []
    },
    {
      "cell_type": "code",
      "metadata": {
        "id": "8JQsKL9Kkrf1",
        "colab_type": "code",
        "outputId": "2b8bd8ea-962b-47ec-fa82-98e7a3b594e4",
        "colab": {}
      },
      "source": [
        "players_heading_acc.columns"
      ],
      "execution_count": 0,
      "outputs": [
        {
          "output_type": "execute_result",
          "data": {
            "text/plain": [
              "['player_api_id',\n",
              " 'heading_accuracy',\n",
              " 'player_api_id',\n",
              " 'player_name',\n",
              " 'birthday',\n",
              " 'height',\n",
              " 'weight']"
            ]
          },
          "metadata": {
            "tags": []
          },
          "execution_count": 78
        }
      ]
    },
    {
      "cell_type": "markdown",
      "metadata": {
        "id": "ypZ6t-6Xkrf5",
        "colab_type": "text"
      },
      "source": [
        "#### Get player counts by height"
      ]
    },
    {
      "cell_type": "code",
      "metadata": {
        "id": "jMEoIJvukrf6",
        "colab_type": "code",
        "colab": {}
      },
      "source": [
        "short_count = spark.sparkContext.accumulator(0)\n",
        "medium_low_count = spark.sparkContext.accumulator(0)\n",
        "medium_high_count = spark.sparkContext.accumulator(0)\n",
        "tall_count = spark.sparkContext.accumulator(0)"
      ],
      "execution_count": 0,
      "outputs": []
    },
    {
      "cell_type": "code",
      "metadata": {
        "id": "olxO_k5Ykrf_",
        "colab_type": "code",
        "colab": {}
      },
      "source": [
        "def count_players_by_height(row):\n",
        "    height = float(row.height)\n",
        "    \n",
        "    if (height <= 175 ):\n",
        "        short_count.add(1)\n",
        "    elif (height <= 183 and height > 175 ):\n",
        "        medium_low_count.add(1)\n",
        "    elif (height <= 195 and height > 183 ):\n",
        "        medium_high_count.add(1)\n",
        "    elif (height > 195) :\n",
        "        tall_count.add(1)"
      ],
      "execution_count": 0,
      "outputs": []
    },
    {
      "cell_type": "code",
      "metadata": {
        "id": "zH1v1MjjkrgF",
        "colab_type": "code",
        "colab": {}
      },
      "source": [
        "players_heading_acc.foreach(lambda x: count_players_by_height(x))"
      ],
      "execution_count": 0,
      "outputs": []
    },
    {
      "cell_type": "code",
      "metadata": {
        "id": "97PjqrRZkrgO",
        "colab_type": "code",
        "outputId": "d6651f78-32ed-40dd-db19-480d302b7308",
        "colab": {}
      },
      "source": [
        "all_players = [short_count.value,\n",
        "               medium_low_count.value,\n",
        "               medium_high_count.value,\n",
        "               tall_count.value]\n",
        "\n",
        "all_players"
      ],
      "execution_count": 0,
      "outputs": [
        {
          "output_type": "execute_result",
          "data": {
            "text/plain": [
              "[18977, 97399, 61518, 3371]"
            ]
          },
          "metadata": {
            "tags": []
          },
          "execution_count": 85
        }
      ]
    },
    {
      "cell_type": "markdown",
      "metadata": {
        "id": "Mzi16L9PkrgY",
        "colab_type": "text"
      },
      "source": [
        "#### Find the players who have the best heading accuracy\n",
        "\n",
        "* Count players who have a heading accuracy above the threshold\n",
        "* Bucket them by height"
      ]
    },
    {
      "cell_type": "code",
      "metadata": {
        "id": "NHhj1Hu4krgd",
        "colab_type": "code",
        "colab": {}
      },
      "source": [
        "short_ha_count = spark.sparkContext.accumulator(0)\n",
        "medium_low_ha_count = spark.sparkContext.accumulator(0)\n",
        "medium_high_ha_count = spark.sparkContext.accumulator(0)\n",
        "tall_ha_count = spark.sparkContext.accumulator(0)"
      ],
      "execution_count": 0,
      "outputs": []
    },
    {
      "cell_type": "code",
      "metadata": {
        "id": "9REEB2n7krgq",
        "colab_type": "code",
        "colab": {}
      },
      "source": [
        "def count_players_by_height_and_heading_accuracy(row, threshold_score):\n",
        "    \n",
        "    height = float(row.height)\n",
        "    ha = float(row.heading_accuracy)\n",
        "    \n",
        "    if ha <= threshold_score:\n",
        "        return\n",
        "    \n",
        "    if (height <= 175 ):\n",
        "        short_ha_count.add(1)\n",
        "    elif (height <= 183 and height > 175):\n",
        "        medium_low_ha_count.add(1)\n",
        "    elif (height <= 195 and height > 183):\n",
        "        medium_high_ha_count.add(1)\n",
        "    elif (height > 195) :\n",
        "        tall_ha_count.add(1)        "
      ],
      "execution_count": 0,
      "outputs": []
    },
    {
      "cell_type": "code",
      "metadata": {
        "id": "tCIH-K83krgt",
        "colab_type": "code",
        "colab": {}
      },
      "source": [
        "players_heading_acc.foreach(lambda x: count_players_by_height_and_heading_accuracy(x, 60))"
      ],
      "execution_count": 0,
      "outputs": []
    },
    {
      "cell_type": "code",
      "metadata": {
        "id": "msB4kIWJkrg2",
        "colab_type": "code",
        "outputId": "de54cd40-0181-4039-d652-10fea2ae6751",
        "colab": {}
      },
      "source": [
        "all_players_above_threshold = [short_ha_count.value,\n",
        "                               medium_low_ha_count.value,\n",
        "                               medium_high_ha_count.value,\n",
        "                               tall_ha_count.value]\n",
        "\n",
        "all_players_above_threshold"
      ],
      "execution_count": 0,
      "outputs": [
        {
          "output_type": "execute_result",
          "data": {
            "text/plain": [
              "[3653, 41448, 40270, 1573]"
            ]
          },
          "metadata": {
            "tags": []
          },
          "execution_count": 89
        }
      ]
    },
    {
      "cell_type": "markdown",
      "metadata": {
        "id": "ZLcvV0V8krg7",
        "colab_type": "text"
      },
      "source": [
        "#### Convert to percentages \n",
        "\n",
        "* % of players above the threshold heading accuracy for each height bucket"
      ]
    },
    {
      "cell_type": "code",
      "metadata": {
        "id": "iwh-RNlekrg8",
        "colab_type": "code",
        "outputId": "eadfc6e2-64de-48c7-a6f1-f4209f6a57e5",
        "colab": {}
      },
      "source": [
        "percentage_values = [short_ha_count.value / short_count.value *100,\n",
        "                     medium_low_ha_count.value / medium_low_count.value *100,\n",
        "                     medium_high_ha_count.value / medium_high_count.value *100,\n",
        "                     tall_ha_count.value / tall_count.value *100\n",
        "                    ]\n",
        "\n",
        "percentage_values"
      ],
      "execution_count": 0,
      "outputs": [
        {
          "output_type": "execute_result",
          "data": {
            "text/plain": [
              "[19.249617958581442, 42.55485169252251, 65.46051562144413, 46.66271136161376]"
            ]
          },
          "metadata": {
            "tags": []
          },
          "execution_count": 90
        }
      ]
    },
    {
      "cell_type": "markdown",
      "metadata": {
        "id": "V-JIK7bwkrhL",
        "colab_type": "text"
      },
      "source": [
        "#### Custom accumulator"
      ]
    },
    {
      "cell_type": "code",
      "metadata": {
        "id": "n2kgK2MnkrhM",
        "colab_type": "code",
        "colab": {}
      },
      "source": [
        "from pyspark.accumulators import AccumulatorParam\n",
        "\n",
        "class VectorAccumulatorParam(AccumulatorParam):\n",
        "    \n",
        "    def zero(self, value):\n",
        "        return [0.0] * len(value)\n",
        "\n",
        "    def addInPlace(self, v1, v2):\n",
        "        for i in range(len(v1)):\n",
        "            v1[i] += v2[i]\n",
        "        \n",
        "        return v1"
      ],
      "execution_count": 0,
      "outputs": []
    },
    {
      "cell_type": "code",
      "metadata": {
        "id": "rxHxwYxJkrhV",
        "colab_type": "code",
        "outputId": "4013a084-5a5a-4265-e0ff-f35d272eb8ab",
        "colab": {}
      },
      "source": [
        "vector_accum = sc.accumulator([10.0, 20.0, 30.0], VectorAccumulatorParam())\n",
        "\n",
        "vector_accum.value"
      ],
      "execution_count": 0,
      "outputs": [
        {
          "output_type": "execute_result",
          "data": {
            "text/plain": [
              "[10.0, 20.0, 30.0]"
            ]
          },
          "metadata": {
            "tags": []
          },
          "execution_count": 117
        }
      ]
    },
    {
      "cell_type": "code",
      "metadata": {
        "id": "EiyENyz7krhY",
        "colab_type": "code",
        "outputId": "7189e5b6-3562-4be3-9ac3-861314592841",
        "colab": {}
      },
      "source": [
        "vector_accum += [1, 2, 3]\n",
        "\n",
        "vector_accum.value"
      ],
      "execution_count": 0,
      "outputs": [
        {
          "output_type": "execute_result",
          "data": {
            "text/plain": [
              "[11.0, 22.0, 33.0]"
            ]
          },
          "metadata": {
            "tags": []
          },
          "execution_count": 118
        }
      ]
    },
    {
      "cell_type": "markdown",
      "metadata": {
        "id": "YTOvkFbakrhv",
        "colab_type": "text"
      },
      "source": [
        "#### Save data to file"
      ]
    },
    {
      "cell_type": "code",
      "metadata": {
        "id": "sdc4dhU0krhw",
        "colab_type": "code",
        "outputId": "df4d9cbc-d2cb-4276-bfdb-3e64df53ff90",
        "colab": {}
      },
      "source": [
        "pa_2016.columns"
      ],
      "execution_count": 0,
      "outputs": [
        {
          "output_type": "execute_result",
          "data": {
            "text/plain": [
              "['player_api_id',\n",
              " 'overall_rating',\n",
              " 'finishing',\n",
              " 'heading_accuracy',\n",
              " 'volleys',\n",
              " 'dribbling',\n",
              " 'curve',\n",
              " 'free_kick_accuracy',\n",
              " 'long_passing',\n",
              " 'ball_control',\n",
              " 'acceleration',\n",
              " 'agility',\n",
              " 'reactions',\n",
              " 'shot_power',\n",
              " 'stamina',\n",
              " 'strength',\n",
              " 'long_shots',\n",
              " 'interceptions',\n",
              " 'positioning',\n",
              " 'vision',\n",
              " 'penalties',\n",
              " 'marking',\n",
              " 'standing_tackle',\n",
              " 'sliding_tackle',\n",
              " 'gk_diving',\n",
              " 'gk_handling',\n",
              " 'gk_kicking',\n",
              " 'gk_positioning',\n",
              " 'gk_reflexes',\n",
              " 'year']"
            ]
          },
          "metadata": {
            "tags": []
          },
          "execution_count": 96
        }
      ]
    },
    {
      "cell_type": "markdown",
      "metadata": {
        "id": "aDlwY7Dakrh-",
        "colab_type": "text"
      },
      "source": [
        "#### Save the dataframe to a file"
      ]
    },
    {
      "cell_type": "code",
      "metadata": {
        "id": "qqW2uOB3krh_",
        "colab_type": "code",
        "colab": {}
      },
      "source": [
        "pa_2016.select(\"player_api_id\", \"overall_rating\")\\\n",
        "    .coalesce(1)\\\n",
        "    .write\\\n",
        "    .option(\"header\", \"true\")\\\n",
        "    .csv(\"players_overall.csv\")"
      ],
      "execution_count": 0,
      "outputs": []
    },
    {
      "cell_type": "code",
      "metadata": {
        "id": "ARJ7tm94kriE",
        "colab_type": "code",
        "colab": {}
      },
      "source": [
        "pa_2016.select(\"player_api_id\", \"overall_rating\")\\\n",
        "    .write\\\n",
        "    .json(\"players_overall.json\")"
      ],
      "execution_count": 0,
      "outputs": []
    },
    {
      "cell_type": "code",
      "metadata": {
        "id": "y2OtlqahkriN",
        "colab_type": "code",
        "colab": {}
      },
      "source": [
        ""
      ],
      "execution_count": 0,
      "outputs": []
    },
    {
      "cell_type": "code",
      "metadata": {
        "id": "sXPCYuB0kriU",
        "colab_type": "code",
        "colab": {}
      },
      "source": [
        ""
      ],
      "execution_count": 0,
      "outputs": []
    },
    {
      "cell_type": "code",
      "metadata": {
        "id": "5hYQ3Z2ukria",
        "colab_type": "code",
        "colab": {}
      },
      "source": [
        ""
      ],
      "execution_count": 0,
      "outputs": []
    },
    {
      "cell_type": "code",
      "metadata": {
        "id": "y_OJlibDkrid",
        "colab_type": "code",
        "colab": {}
      },
      "source": [
        ""
      ],
      "execution_count": 0,
      "outputs": []
    },
    {
      "cell_type": "code",
      "metadata": {
        "id": "soLs81h3krig",
        "colab_type": "code",
        "colab": {}
      },
      "source": [
        ""
      ],
      "execution_count": 0,
      "outputs": []
    },
    {
      "cell_type": "code",
      "metadata": {
        "id": "y_FDA5Wikrii",
        "colab_type": "code",
        "colab": {}
      },
      "source": [
        ""
      ],
      "execution_count": 0,
      "outputs": []
    },
    {
      "cell_type": "code",
      "metadata": {
        "id": "GWk-U5WIkrin",
        "colab_type": "code",
        "colab": {}
      },
      "source": [
        ""
      ],
      "execution_count": 0,
      "outputs": []
    },
    {
      "cell_type": "code",
      "metadata": {
        "id": "so6VHSsXkriq",
        "colab_type": "code",
        "colab": {}
      },
      "source": [
        ""
      ],
      "execution_count": 0,
      "outputs": []
    },
    {
      "cell_type": "code",
      "metadata": {
        "id": "yAlupcNRkrit",
        "colab_type": "code",
        "colab": {}
      },
      "source": [
        ""
      ],
      "execution_count": 0,
      "outputs": []
    }
  ]
}