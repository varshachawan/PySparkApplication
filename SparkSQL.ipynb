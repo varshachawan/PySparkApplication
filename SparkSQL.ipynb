{
  "nbformat": 4,
  "nbformat_minor": 0,
  "metadata": {
    "kernelspec": {
      "display_name": "Python 3",
      "language": "python",
      "name": "python3"
    },
    "language_info": {
      "codemirror_mode": {
        "name": "ipython",
        "version": 3
      },
      "file_extension": ".py",
      "mimetype": "text/x-python",
      "name": "python",
      "nbconvert_exporter": "python",
      "pygments_lexer": "ipython3",
      "version": "3.6.4"
    },
    "colab": {
      "name": "SparkSQL.ipynb",
      "provenance": [],
      "include_colab_link": true
    }
  },
  "cells": [
    {
      "cell_type": "markdown",
      "metadata": {
        "id": "view-in-github",
        "colab_type": "text"
      },
      "source": [
        "<a href=\"https://colab.research.google.com/github/varshachawan/PySparkApplication/blob/master/SparkSQL.ipynb\" target=\"_parent\"><img src=\"https://colab.research.google.com/assets/colab-badge.svg\" alt=\"Open In Colab\"/></a>"
      ]
    },
    {
      "cell_type": "markdown",
      "metadata": {
        "id": "xr1oBlND2HfD",
        "colab_type": "text"
      },
      "source": [
        "### Analyzing airline data with Spark SQL"
      ]
    },
    {
      "cell_type": "code",
      "metadata": {
        "id": "quP5JwXL2T2Y",
        "colab_type": "code",
        "colab": {}
      },
      "source": [
        "!apt-get install openjdk-8-jdk-headless -qq > /dev/null\n",
        "!wget -q https://mirror.olnevhost.net/pub/apache/spark/spark-2.4.5/spark-2.4.5-bin-hadoop2.7.tgz"
      ],
      "execution_count": 0,
      "outputs": []
    },
    {
      "cell_type": "code",
      "metadata": {
        "id": "Z3-cChaH2YGK",
        "colab_type": "code",
        "colab": {
          "base_uri": "https://localhost:8080/",
          "height": 35
        },
        "outputId": "2c7a6cf4-c63c-4896-947e-d009115d2c46"
      },
      "source": [
        "!tar xf spark-2.4.5-bin-hadoop2.7.tgz\n",
        "!pip install -q findspark\n",
        "import os\n",
        "os.environ[\"JAVA_HOME\"]=\"/usr/lib/jvm/java-8-openjdk-amd64\"\n",
        "os.environ[\"SPARK_HOME\"]=\"/content/spark-2.4.5-bin-hadoop2.7\"\n",
        "!echo $JAVA_HOME\n",
        "import findspark\n",
        "findspark.init()"
      ],
      "execution_count": 2,
      "outputs": [
        {
          "output_type": "stream",
          "text": [
            "/usr/lib/jvm/java-8-openjdk-amd64\n"
          ],
          "name": "stdout"
        }
      ]
    },
    {
      "cell_type": "code",
      "metadata": {
        "id": "NI3fJgDB2HfH",
        "colab_type": "code",
        "colab": {}
      },
      "source": [
        "from pyspark.sql import SparkSession\n",
        "\n",
        "spark = SparkSession \\\n",
        "    .builder \\\n",
        "    .appName(\"Analyzing airline data\") \\\n",
        "    .getOrCreate()"
      ],
      "execution_count": 0,
      "outputs": []
    },
    {
      "cell_type": "markdown",
      "metadata": {
        "id": "0Shu2Jqx2HfT",
        "colab_type": "text"
      },
      "source": [
        "### Exploring SQL query options"
      ]
    },
    {
      "cell_type": "code",
      "metadata": {
        "id": "hylxoNoT2HfU",
        "colab_type": "code",
        "colab": {}
      },
      "source": [
        "from pyspark.sql.types import Row\n",
        "from datetime import datetime\n",
        "sc= spark.sparkContext"
      ],
      "execution_count": 0,
      "outputs": []
    },
    {
      "cell_type": "markdown",
      "metadata": {
        "id": "-tc0i6G_2HfZ",
        "colab_type": "text"
      },
      "source": [
        "#### Creating a dataframe with different data types"
      ]
    },
    {
      "cell_type": "code",
      "metadata": {
        "id": "S3dRQrjH2Hfa",
        "colab_type": "code",
        "colab": {}
      },
      "source": [
        "record = sc.parallelize([Row(id = 1,\n",
        "                             name = \"Jill\",\n",
        "                             active = True,\n",
        "                             clubs = ['chess', 'hockey'],\n",
        "                             subjects = {\"math\": 80, 'english': 56},\n",
        "                             enrolled = datetime(2014, 8, 1, 14, 1, 5)),\n",
        "                         Row(id = 2,\n",
        "                             name = \"George\",\n",
        "                             active = False,\n",
        "                             clubs = ['chess', 'soccer'],\n",
        "                             subjects = {\"math\": 60, 'english': 96},\n",
        "                             enrolled = datetime(2015, 3, 21, 8, 2, 5))\n",
        "])"
      ],
      "execution_count": 0,
      "outputs": []
    },
    {
      "cell_type": "code",
      "metadata": {
        "id": "54TFO65R2Hfg",
        "colab_type": "code",
        "colab": {
          "base_uri": "https://localhost:8080/",
          "height": 145
        },
        "outputId": "6fb409bf-b7d3-43f7-8445-537b52a17da5"
      },
      "source": [
        "record_df = record.toDF()\n",
        "record_df.show()"
      ],
      "execution_count": 7,
      "outputs": [
        {
          "output_type": "stream",
          "text": [
            "+------+---------------+-------------------+---+------+--------------------+\n",
            "|active|          clubs|           enrolled| id|  name|            subjects|\n",
            "+------+---------------+-------------------+---+------+--------------------+\n",
            "|  true|[chess, hockey]|2014-08-01 14:01:05|  1|  Jill|[english -> 56, m...|\n",
            "| false|[chess, soccer]|2015-03-21 08:02:05|  2|George|[english -> 96, m...|\n",
            "+------+---------------+-------------------+---+------+--------------------+\n",
            "\n"
          ],
          "name": "stdout"
        }
      ]
    },
    {
      "cell_type": "markdown",
      "metadata": {
        "id": "CEpBmRLM2Hfn",
        "colab_type": "text"
      },
      "source": [
        "#### Register the dataframe as a temporary view\n",
        "\n",
        "* The view is valid for one session\n",
        "* This is required to run SQL commands on the dataframe"
      ]
    },
    {
      "cell_type": "code",
      "metadata": {
        "id": "iLLzCnJV2Hfo",
        "colab_type": "code",
        "colab": {}
      },
      "source": [
        "record_df.createOrReplaceTempView(\"records\")"
      ],
      "execution_count": 0,
      "outputs": []
    },
    {
      "cell_type": "code",
      "metadata": {
        "id": "lk6s9JlR3Hkd",
        "colab_type": "code",
        "colab": {}
      },
      "source": [
        "from pyspark.sql import SQLContext\n",
        "sqlContext = SQLContext(sc)\n"
      ],
      "execution_count": 0,
      "outputs": []
    },
    {
      "cell_type": "code",
      "metadata": {
        "id": "5UR01_lh2Hft",
        "colab_type": "code",
        "colab": {
          "base_uri": "https://localhost:8080/",
          "height": 145
        },
        "outputId": "14d1078e-c11a-468f-84e1-8227b01bd6af"
      },
      "source": [
        "all_records_df = sqlContext.sql('SELECT * FROM records')\n",
        "\n",
        "all_records_df.show()"
      ],
      "execution_count": 15,
      "outputs": [
        {
          "output_type": "stream",
          "text": [
            "+------+---------------+-------------------+---+------+--------------------+\n",
            "|active|          clubs|           enrolled| id|  name|            subjects|\n",
            "+------+---------------+-------------------+---+------+--------------------+\n",
            "|  true|[chess, hockey]|2014-08-01 14:01:05|  1|  Jill|[english -> 56, m...|\n",
            "| false|[chess, soccer]|2015-03-21 08:02:05|  2|George|[english -> 96, m...|\n",
            "+------+---------------+-------------------+---+------+--------------------+\n",
            "\n"
          ],
          "name": "stdout"
        }
      ]
    },
    {
      "cell_type": "code",
      "metadata": {
        "id": "aaIZ6dzC2HgA",
        "colab_type": "code",
        "colab": {
          "base_uri": "https://localhost:8080/",
          "height": 145
        },
        "outputId": "9979e72e-48ef-4647-b08a-c51ef0c7e3d4"
      },
      "source": [
        "sqlContext.sql('SELECT id, clubs[1], subjects[\"english\"] FROM records').show()"
      ],
      "execution_count": 16,
      "outputs": [
        {
          "output_type": "stream",
          "text": [
            "+---+--------+-----------------+\n",
            "| id|clubs[1]|subjects[english]|\n",
            "+---+--------+-----------------+\n",
            "|  1|  hockey|               56|\n",
            "|  2|  soccer|               96|\n",
            "+---+--------+-----------------+\n",
            "\n"
          ],
          "name": "stdout"
        }
      ]
    },
    {
      "cell_type": "code",
      "metadata": {
        "id": "k-DLwpqo2HgF",
        "colab_type": "code",
        "colab": {},
        "outputId": "d0244531-dae6-4133-9387-ccae1829bd6f"
      },
      "source": [
        "sqlContext.sql('SELECT id, NOT active FROM records').show()"
      ],
      "execution_count": 0,
      "outputs": [
        {
          "output_type": "stream",
          "text": [
            "+---+------------+\n",
            "| id|(NOT active)|\n",
            "+---+------------+\n",
            "|  1|       false|\n",
            "|  2|        true|\n",
            "+---+------------+\n",
            "\n"
          ],
          "name": "stdout"
        }
      ]
    },
    {
      "cell_type": "markdown",
      "metadata": {
        "id": "tpNUi-QS2HgM",
        "colab_type": "text"
      },
      "source": [
        "### Conditional statements in SQL "
      ]
    },
    {
      "cell_type": "code",
      "metadata": {
        "id": "Xw-QoZ062HgN",
        "colab_type": "code",
        "colab": {},
        "outputId": "6da0345e-3851-4a09-8931-4016e0b55215"
      },
      "source": [
        "sqlContext.sql('SELECT * FROM records where active').show()"
      ],
      "execution_count": 0,
      "outputs": [
        {
          "output_type": "stream",
          "text": [
            "+------+---------------+-------------------+---+----+--------------------+\n",
            "|active|          clubs|           enrolled| id|name|            subjects|\n",
            "+------+---------------+-------------------+---+----+--------------------+\n",
            "|  true|[chess, hockey]|2014-08-01 14:01:05|  1|Jill|[english -> 56, m...|\n",
            "+------+---------------+-------------------+---+----+--------------------+\n",
            "\n"
          ],
          "name": "stdout"
        }
      ]
    },
    {
      "cell_type": "code",
      "metadata": {
        "id": "mLoVFvHj2HgQ",
        "colab_type": "code",
        "colab": {},
        "outputId": "12538d32-41ee-48e7-e395-41e71ec732a0"
      },
      "source": [
        "sqlContext.sql('SELECT * FROM records where subjects[\"english\"] > 90').show()"
      ],
      "execution_count": 0,
      "outputs": [
        {
          "output_type": "stream",
          "text": [
            "+------+---------------+-------------------+---+------+--------------------+\n",
            "|active|          clubs|           enrolled| id|  name|            subjects|\n",
            "+------+---------------+-------------------+---+------+--------------------+\n",
            "| false|[chess, soccer]|2015-03-21 08:02:05|  2|George|[english -> 96, m...|\n",
            "+------+---------------+-------------------+---+------+--------------------+\n",
            "\n"
          ],
          "name": "stdout"
        }
      ]
    },
    {
      "cell_type": "markdown",
      "metadata": {
        "id": "l-SMxdKg2HgV",
        "colab_type": "text"
      },
      "source": [
        "#### Global temporary view\n",
        "\n",
        "* Temporary view shared across multiple sessions\n",
        "* Kept alive till the Spark application terminates"
      ]
    },
    {
      "cell_type": "code",
      "metadata": {
        "id": "24DAt7uZ2HgX",
        "colab_type": "code",
        "colab": {}
      },
      "source": [
        "record_df.createGlobalTempView(\"global_records\")"
      ],
      "execution_count": 0,
      "outputs": []
    },
    {
      "cell_type": "code",
      "metadata": {
        "id": "nEhNBuv72Hgf",
        "colab_type": "code",
        "colab": {},
        "outputId": "81e218ea-5134-4fb7-b206-7eab4fa12c1f"
      },
      "source": [
        "sqlContext.sql('SELECT * FROM global_temp.global_records').show()"
      ],
      "execution_count": 0,
      "outputs": [
        {
          "output_type": "stream",
          "text": [
            "+------+---------------+-------------------+---+------+--------------------+\n",
            "|active|          clubs|           enrolled| id|  name|            subjects|\n",
            "+------+---------------+-------------------+---+------+--------------------+\n",
            "|  true|[chess, hockey]|2014-08-01 14:01:05|  1|  Jill|[english -> 56, m...|\n",
            "| false|[chess, soccer]|2015-03-21 08:02:05|  2|George|[english -> 96, m...|\n",
            "+------+---------------+-------------------+---+------+--------------------+\n",
            "\n"
          ],
          "name": "stdout"
        }
      ]
    },
    {
      "cell_type": "code",
      "metadata": {
        "id": "kmAo1YyZ2Hgj",
        "colab_type": "code",
        "colab": {}
      },
      "source": [
        ""
      ],
      "execution_count": 0,
      "outputs": []
    },
    {
      "cell_type": "code",
      "metadata": {
        "id": "zLiv7fPB2Hgn",
        "colab_type": "code",
        "colab": {}
      },
      "source": [
        ""
      ],
      "execution_count": 0,
      "outputs": []
    },
    {
      "cell_type": "code",
      "metadata": {
        "id": "hEzaZ-dB2Hgs",
        "colab_type": "code",
        "colab": {}
      },
      "source": [
        ""
      ],
      "execution_count": 0,
      "outputs": []
    },
    {
      "cell_type": "code",
      "metadata": {
        "id": "FhjX41XX2Hgw",
        "colab_type": "code",
        "colab": {}
      },
      "source": [
        ""
      ],
      "execution_count": 0,
      "outputs": []
    },
    {
      "cell_type": "code",
      "metadata": {
        "id": "4oBj_Z5v2Hg4",
        "colab_type": "code",
        "colab": {}
      },
      "source": [
        ""
      ],
      "execution_count": 0,
      "outputs": []
    },
    {
      "cell_type": "code",
      "metadata": {
        "id": "Y3Zw4iqq2Hg9",
        "colab_type": "code",
        "colab": {}
      },
      "source": [
        ""
      ],
      "execution_count": 0,
      "outputs": []
    }
  ]
}